{
  "cells": [
    {
      "cell_type": "markdown",
      "metadata": {},
      "source": [
        "# Clase 7 – Ejercicio de Rendimiento E-commerce (Paso a Paso con Pandas)\n",
        "\n",
        "Este cuaderno resuelve **paso a paso** el ejercicio de la *Clase 7 – Estadística aplicada*, usando **pandas** y **matplotlib**.\n",
        "Incluye: creación del dataset, inspección, preparación, métricas de eficiencia, conversión, ticket promedio y correlación Visitantes–Ventas.\n"
      ]
    },
    {
      "cell_type": "markdown",
      "metadata": {},
      "source": [
        "## 1) Instalación e importación de librerías"
      ]
    },
    {
      "cell_type": "code",
      "execution_count": 1,
      "metadata": {},
      "outputs": [],
      "source": [
        "# En este entorno pandas y matplotlib suelen estar disponibles.\n",
        "# Si ejecutas localmente y no los tienes, descomenta la línea correspondiente:\n",
        "# !pip install pandas matplotlib\n",
        "\n",
        "import pandas as pd\n",
        "import numpy as np\n",
        "import matplotlib.pyplot as plt\n"
      ]
    },
    {
      "cell_type": "markdown",
      "metadata": {},
      "source": [
        "## 2) Crear el dataset\n",
        "Usamos los datos del enunciado (5 meses)."
      ]
    },
    {
      "cell_type": "code",
      "execution_count": 2,
      "metadata": {},
      "outputs": [
        {
          "data": {
            "text/html": [
              "<div>\n",
              "<style scoped>\n",
              "    .dataframe tbody tr th:only-of-type {\n",
              "        vertical-align: middle;\n",
              "    }\n",
              "\n",
              "    .dataframe tbody tr th {\n",
              "        vertical-align: top;\n",
              "    }\n",
              "\n",
              "    .dataframe thead th {\n",
              "        text-align: right;\n",
              "    }\n",
              "</style>\n",
              "<table border=\"1\" class=\"dataframe\">\n",
              "  <thead>\n",
              "    <tr style=\"text-align: right;\">\n",
              "      <th></th>\n",
              "      <th>Mes</th>\n",
              "      <th>Ventas</th>\n",
              "      <th>Visitantes</th>\n",
              "      <th>Conversion</th>\n",
              "      <th>Publicidad</th>\n",
              "      <th>Productos</th>\n",
              "    </tr>\n",
              "  </thead>\n",
              "  <tbody>\n",
              "    <tr>\n",
              "      <th>0</th>\n",
              "      <td>Ene</td>\n",
              "      <td>45000</td>\n",
              "      <td>15000</td>\n",
              "      <td>3.2</td>\n",
              "      <td>8500</td>\n",
              "      <td>450</td>\n",
              "    </tr>\n",
              "    <tr>\n",
              "      <th>1</th>\n",
              "      <td>Feb</td>\n",
              "      <td>52000</td>\n",
              "      <td>18200</td>\n",
              "      <td>2.9</td>\n",
              "      <td>9800</td>\n",
              "      <td>520</td>\n",
              "    </tr>\n",
              "    <tr>\n",
              "      <th>2</th>\n",
              "      <td>Mar</td>\n",
              "      <td>38000</td>\n",
              "      <td>12500</td>\n",
              "      <td>3.8</td>\n",
              "      <td>7200</td>\n",
              "      <td>380</td>\n",
              "    </tr>\n",
              "    <tr>\n",
              "      <th>3</th>\n",
              "      <td>Abr</td>\n",
              "      <td>61000</td>\n",
              "      <td>20500</td>\n",
              "      <td>3.1</td>\n",
              "      <td>11200</td>\n",
              "      <td>610</td>\n",
              "    </tr>\n",
              "    <tr>\n",
              "      <th>4</th>\n",
              "      <td>May</td>\n",
              "      <td>48000</td>\n",
              "      <td>16800</td>\n",
              "      <td>2.7</td>\n",
              "      <td>9500</td>\n",
              "      <td>480</td>\n",
              "    </tr>\n",
              "  </tbody>\n",
              "</table>\n",
              "</div>"
            ],
            "text/plain": [
              "   Mes  Ventas  Visitantes  Conversion  Publicidad  Productos\n",
              "0  Ene   45000       15000         3.2        8500        450\n",
              "1  Feb   52000       18200         2.9        9800        520\n",
              "2  Mar   38000       12500         3.8        7200        380\n",
              "3  Abr   61000       20500         3.1       11200        610\n",
              "4  May   48000       16800         2.7        9500        480"
            ]
          },
          "execution_count": 2,
          "metadata": {},
          "output_type": "execute_result"
        }
      ],
      "source": [
        "data = {\n",
        "    'Mes': ['Ene','Feb','Mar','Abr','May'],\n",
        "    'Ventas': [45000, 52000, 38000, 61000, 48000],\n",
        "    'Visitantes': [15000, 18200, 12500, 20500, 16800],\n",
        "    'Conversion': [3.2, 2.9, 3.8, 3.1, 2.7],   # en porcentaje\n",
        "    'Publicidad': [8500, 9800, 7200, 11200, 9500],\n",
        "    'Productos': [450, 520, 380, 610, 480]\n",
        "}\n",
        "df = pd.DataFrame(data)\n",
        "df\n"
      ]
    },
    {
      "cell_type": "markdown",
      "metadata": {},
      "source": [
        "## 3) Inspección inicial"
      ]
    },
    {
      "cell_type": "code",
      "execution_count": 3,
      "metadata": {},
      "outputs": [
        {
          "name": "stdout",
          "output_type": "stream",
          "text": [
            "Dimensiones: (5, 6)\n",
            "\n",
            "Tipos de dato:\n",
            "Mes            object\n",
            "Ventas          int64\n",
            "Visitantes      int64\n",
            "Conversion    float64\n",
            "Publicidad      int64\n",
            "Productos       int64\n",
            "dtype: object\n",
            "\n",
            "Vista rápida (head):\n"
          ]
        },
        {
          "data": {
            "text/html": [
              "<div>\n",
              "<style scoped>\n",
              "    .dataframe tbody tr th:only-of-type {\n",
              "        vertical-align: middle;\n",
              "    }\n",
              "\n",
              "    .dataframe tbody tr th {\n",
              "        vertical-align: top;\n",
              "    }\n",
              "\n",
              "    .dataframe thead th {\n",
              "        text-align: right;\n",
              "    }\n",
              "</style>\n",
              "<table border=\"1\" class=\"dataframe\">\n",
              "  <thead>\n",
              "    <tr style=\"text-align: right;\">\n",
              "      <th></th>\n",
              "      <th>Mes</th>\n",
              "      <th>Ventas</th>\n",
              "      <th>Visitantes</th>\n",
              "      <th>Conversion</th>\n",
              "      <th>Publicidad</th>\n",
              "      <th>Productos</th>\n",
              "    </tr>\n",
              "  </thead>\n",
              "  <tbody>\n",
              "    <tr>\n",
              "      <th>0</th>\n",
              "      <td>Ene</td>\n",
              "      <td>45000</td>\n",
              "      <td>15000</td>\n",
              "      <td>3.2</td>\n",
              "      <td>8500</td>\n",
              "      <td>450</td>\n",
              "    </tr>\n",
              "    <tr>\n",
              "      <th>1</th>\n",
              "      <td>Feb</td>\n",
              "      <td>52000</td>\n",
              "      <td>18200</td>\n",
              "      <td>2.9</td>\n",
              "      <td>9800</td>\n",
              "      <td>520</td>\n",
              "    </tr>\n",
              "    <tr>\n",
              "      <th>2</th>\n",
              "      <td>Mar</td>\n",
              "      <td>38000</td>\n",
              "      <td>12500</td>\n",
              "      <td>3.8</td>\n",
              "      <td>7200</td>\n",
              "      <td>380</td>\n",
              "    </tr>\n",
              "    <tr>\n",
              "      <th>3</th>\n",
              "      <td>Abr</td>\n",
              "      <td>61000</td>\n",
              "      <td>20500</td>\n",
              "      <td>3.1</td>\n",
              "      <td>11200</td>\n",
              "      <td>610</td>\n",
              "    </tr>\n",
              "    <tr>\n",
              "      <th>4</th>\n",
              "      <td>May</td>\n",
              "      <td>48000</td>\n",
              "      <td>16800</td>\n",
              "      <td>2.7</td>\n",
              "      <td>9500</td>\n",
              "      <td>480</td>\n",
              "    </tr>\n",
              "  </tbody>\n",
              "</table>\n",
              "</div>"
            ],
            "text/plain": [
              "   Mes  Ventas  Visitantes  Conversion  Publicidad  Productos\n",
              "0  Ene   45000       15000         3.2        8500        450\n",
              "1  Feb   52000       18200         2.9        9800        520\n",
              "2  Mar   38000       12500         3.8        7200        380\n",
              "3  Abr   61000       20500         3.1       11200        610\n",
              "4  May   48000       16800         2.7        9500        480"
            ]
          },
          "metadata": {},
          "output_type": "display_data"
        },
        {
          "name": "stdout",
          "output_type": "stream",
          "text": [
            "\n",
            "Resumen info():\n",
            "<class 'pandas.core.frame.DataFrame'>\n",
            "RangeIndex: 5 entries, 0 to 4\n",
            "Data columns (total 6 columns):\n",
            " #   Column      Non-Null Count  Dtype  \n",
            "---  ------      --------------  -----  \n",
            " 0   Mes         5 non-null      object \n",
            " 1   Ventas      5 non-null      int64  \n",
            " 2   Visitantes  5 non-null      int64  \n",
            " 3   Conversion  5 non-null      float64\n",
            " 4   Publicidad  5 non-null      int64  \n",
            " 5   Productos   5 non-null      int64  \n",
            "dtypes: float64(1), int64(4), object(1)\n",
            "memory usage: 372.0+ bytes\n"
          ]
        }
      ],
      "source": [
        "print(\"Dimensiones:\", df.shape)\n",
        "print(\"\\nTipos de dato:\")\n",
        "print(df.dtypes)\n",
        "print(\"\\nVista rápida (head):\")\n",
        "display(df.head())\n",
        "print(\"\\nResumen info():\")\n",
        "df.info()\n"
      ]
    },
    {
      "cell_type": "markdown",
      "metadata": {},
      "source": [
        "## 4) Verificación de valores faltantes y duplicados"
      ]
    },
    {
      "cell_type": "code",
      "execution_count": 4,
      "metadata": {},
      "outputs": [
        {
          "name": "stdout",
          "output_type": "stream",
          "text": [
            "Valores faltantes por columna:\n",
            "Mes           0\n",
            "Ventas        0\n",
            "Visitantes    0\n",
            "Conversion    0\n",
            "Publicidad    0\n",
            "Productos     0\n",
            "dtype: int64\n",
            "\n",
            "Filas duplicadas: 0\n"
          ]
        }
      ],
      "source": [
        "print(\"Valores faltantes por columna:\")\n",
        "print(df.isnull().sum())\n",
        "\n",
        "print(\"\\nFilas duplicadas:\", df.duplicated().sum())\n"
      ]
    },
    {
      "cell_type": "markdown",
      "metadata": {},
      "source": [
        "## 5) Métricas solicitadas\n",
        "\n",
        "**Objetivos:**\n",
        "1. Identificar el mes con **mayor eficiencia** (Ventas / Publicidad).  \n",
        "2. Determinar el mes con **mejor tasa de conversión** (`Conversion`).  \n",
        "3. Calcular el **ticket promedio** (Ventas / Productos) por mes.  \n",
        "4. Evaluar la **correlación** entre **Visitantes** y **Ventas**.\n"
      ]
    },
    {
      "cell_type": "code",
      "execution_count": 5,
      "metadata": {},
      "outputs": [
        {
          "name": "stdout",
          "output_type": "stream",
          "text": [
            "Mes con mayor eficiencia (Ventas/Publicidad): Abr\n",
            "Mes con mejor conversión: Mar\n",
            "Ticket promedio por mes:\n"
          ]
        },
        {
          "data": {
            "text/html": [
              "<div>\n",
              "<style scoped>\n",
              "    .dataframe tbody tr th:only-of-type {\n",
              "        vertical-align: middle;\n",
              "    }\n",
              "\n",
              "    .dataframe tbody tr th {\n",
              "        vertical-align: top;\n",
              "    }\n",
              "\n",
              "    .dataframe thead th {\n",
              "        text-align: right;\n",
              "    }\n",
              "</style>\n",
              "<table border=\"1\" class=\"dataframe\">\n",
              "  <thead>\n",
              "    <tr style=\"text-align: right;\">\n",
              "      <th></th>\n",
              "      <th>Mes</th>\n",
              "      <th>Ticket</th>\n",
              "    </tr>\n",
              "  </thead>\n",
              "  <tbody>\n",
              "    <tr>\n",
              "      <th>0</th>\n",
              "      <td>Ene</td>\n",
              "      <td>100.0</td>\n",
              "    </tr>\n",
              "    <tr>\n",
              "      <th>1</th>\n",
              "      <td>Feb</td>\n",
              "      <td>100.0</td>\n",
              "    </tr>\n",
              "    <tr>\n",
              "      <th>2</th>\n",
              "      <td>Mar</td>\n",
              "      <td>100.0</td>\n",
              "    </tr>\n",
              "    <tr>\n",
              "      <th>3</th>\n",
              "      <td>Abr</td>\n",
              "      <td>100.0</td>\n",
              "    </tr>\n",
              "    <tr>\n",
              "      <th>4</th>\n",
              "      <td>May</td>\n",
              "      <td>100.0</td>\n",
              "    </tr>\n",
              "  </tbody>\n",
              "</table>\n",
              "</div>"
            ],
            "text/plain": [
              "   Mes  Ticket\n",
              "0  Ene   100.0\n",
              "1  Feb   100.0\n",
              "2  Mar   100.0\n",
              "3  Abr   100.0\n",
              "4  May   100.0"
            ]
          },
          "metadata": {},
          "output_type": "display_data"
        },
        {
          "name": "stdout",
          "output_type": "stream",
          "text": [
            "Correlación Visitantes–Ventas: 0.9896\n"
          ]
        }
      ],
      "source": [
        "# 5.1 Eficiencia (ROI simple): Ventas / Publicidad\n",
        "df['Eficiencia'] = df['Ventas'] / df['Publicidad']\n",
        "mes_max_eficiencia = df.loc[df['Eficiencia'].idxmax(), 'Mes']\n",
        "\n",
        "# 5.2 Mejor conversión (porcentaje más alto)\n",
        "mes_mejor_conversion = df.loc[df['Conversion'].idxmax(), 'Mes']\n",
        "\n",
        "# 5.3 Ticket promedio\n",
        "df['Ticket'] = df['Ventas'] / df['Productos']\n",
        "\n",
        "# 5.4 Correlación Visitantes–Ventas\n",
        "corr_vv = df[['Visitantes','Ventas']].corr().iloc[0,1]\n",
        "\n",
        "print(\"Mes con mayor eficiencia (Ventas/Publicidad):\", mes_max_eficiencia)\n",
        "print(\"Mes con mejor conversión:\", mes_mejor_conversion)\n",
        "print(\"Ticket promedio por mes:\")\n",
        "display(df[['Mes','Ticket']])\n",
        "print(\"Correlación Visitantes–Ventas:\", round(corr_vv, 4))\n"
      ]
    },
    {
      "cell_type": "markdown",
      "metadata": {},
      "source": [
        "## 6) Estadísticas descriptivas clave"
      ]
    },
    {
      "cell_type": "code",
      "execution_count": 6,
      "metadata": {},
      "outputs": [
        {
          "data": {
            "text/html": [
              "<div>\n",
              "<style scoped>\n",
              "    .dataframe tbody tr th:only-of-type {\n",
              "        vertical-align: middle;\n",
              "    }\n",
              "\n",
              "    .dataframe tbody tr th {\n",
              "        vertical-align: top;\n",
              "    }\n",
              "\n",
              "    .dataframe thead th {\n",
              "        text-align: right;\n",
              "    }\n",
              "</style>\n",
              "<table border=\"1\" class=\"dataframe\">\n",
              "  <thead>\n",
              "    <tr style=\"text-align: right;\">\n",
              "      <th></th>\n",
              "      <th>Ventas</th>\n",
              "      <th>Visitantes</th>\n",
              "      <th>Conversion</th>\n",
              "      <th>Publicidad</th>\n",
              "      <th>Productos</th>\n",
              "      <th>Eficiencia</th>\n",
              "      <th>Ticket</th>\n",
              "    </tr>\n",
              "  </thead>\n",
              "  <tbody>\n",
              "    <tr>\n",
              "      <th>count</th>\n",
              "      <td>5.000000</td>\n",
              "      <td>5.000000</td>\n",
              "      <td>5.000000</td>\n",
              "      <td>5.000000</td>\n",
              "      <td>5.000000</td>\n",
              "      <td>5.000000</td>\n",
              "      <td>5.0</td>\n",
              "    </tr>\n",
              "    <tr>\n",
              "      <th>mean</th>\n",
              "      <td>48800.000000</td>\n",
              "      <td>16600.000000</td>\n",
              "      <td>3.140000</td>\n",
              "      <td>9240.000000</td>\n",
              "      <td>488.000000</td>\n",
              "      <td>5.275416</td>\n",
              "      <td>100.0</td>\n",
              "    </tr>\n",
              "    <tr>\n",
              "      <th>std</th>\n",
              "      <td>8526.429499</td>\n",
              "      <td>3048.770244</td>\n",
              "      <td>0.415933</td>\n",
              "      <td>1494.322589</td>\n",
              "      <td>85.264295</td>\n",
              "      <td>0.141577</td>\n",
              "      <td>0.0</td>\n",
              "    </tr>\n",
              "    <tr>\n",
              "      <th>min</th>\n",
              "      <td>38000.000000</td>\n",
              "      <td>12500.000000</td>\n",
              "      <td>2.700000</td>\n",
              "      <td>7200.000000</td>\n",
              "      <td>380.000000</td>\n",
              "      <td>5.052632</td>\n",
              "      <td>100.0</td>\n",
              "    </tr>\n",
              "    <tr>\n",
              "      <th>25%</th>\n",
              "      <td>45000.000000</td>\n",
              "      <td>15000.000000</td>\n",
              "      <td>2.900000</td>\n",
              "      <td>8500.000000</td>\n",
              "      <td>450.000000</td>\n",
              "      <td>5.277778</td>\n",
              "      <td>100.0</td>\n",
              "    </tr>\n",
              "    <tr>\n",
              "      <th>50%</th>\n",
              "      <td>48000.000000</td>\n",
              "      <td>16800.000000</td>\n",
              "      <td>3.100000</td>\n",
              "      <td>9500.000000</td>\n",
              "      <td>480.000000</td>\n",
              "      <td>5.294118</td>\n",
              "      <td>100.0</td>\n",
              "    </tr>\n",
              "    <tr>\n",
              "      <th>75%</th>\n",
              "      <td>52000.000000</td>\n",
              "      <td>18200.000000</td>\n",
              "      <td>3.200000</td>\n",
              "      <td>9800.000000</td>\n",
              "      <td>520.000000</td>\n",
              "      <td>5.306122</td>\n",
              "      <td>100.0</td>\n",
              "    </tr>\n",
              "    <tr>\n",
              "      <th>max</th>\n",
              "      <td>61000.000000</td>\n",
              "      <td>20500.000000</td>\n",
              "      <td>3.800000</td>\n",
              "      <td>11200.000000</td>\n",
              "      <td>610.000000</td>\n",
              "      <td>5.446429</td>\n",
              "      <td>100.0</td>\n",
              "    </tr>\n",
              "  </tbody>\n",
              "</table>\n",
              "</div>"
            ],
            "text/plain": [
              "             Ventas    Visitantes  Conversion    Publicidad   Productos  \\\n",
              "count      5.000000      5.000000    5.000000      5.000000    5.000000   \n",
              "mean   48800.000000  16600.000000    3.140000   9240.000000  488.000000   \n",
              "std     8526.429499   3048.770244    0.415933   1494.322589   85.264295   \n",
              "min    38000.000000  12500.000000    2.700000   7200.000000  380.000000   \n",
              "25%    45000.000000  15000.000000    2.900000   8500.000000  450.000000   \n",
              "50%    48000.000000  16800.000000    3.100000   9500.000000  480.000000   \n",
              "75%    52000.000000  18200.000000    3.200000   9800.000000  520.000000   \n",
              "max    61000.000000  20500.000000    3.800000  11200.000000  610.000000   \n",
              "\n",
              "       Eficiencia  Ticket  \n",
              "count    5.000000     5.0  \n",
              "mean     5.275416   100.0  \n",
              "std      0.141577     0.0  \n",
              "min      5.052632   100.0  \n",
              "25%      5.277778   100.0  \n",
              "50%      5.294118   100.0  \n",
              "75%      5.306122   100.0  \n",
              "max      5.446429   100.0  "
            ]
          },
          "metadata": {},
          "output_type": "display_data"
        }
      ],
      "source": [
        "display(df[['Ventas','Visitantes','Conversion','Publicidad','Productos','Eficiencia','Ticket']].describe())\n"
      ]
    },
    {
      "cell_type": "markdown",
      "metadata": {},
      "source": [
        "## 7) Visualizaciones (matplotlib)\n",
        "\n",
        "> Regla del curso: usar **matplotlib**, un **gráfico por celda** y **sin especificar colores**."
      ]
    },
    {
      "cell_type": "code",
      "execution_count": 7,
      "metadata": {},
      "outputs": [
        {
          "data": {
            "image/png": "[encoded data removed]",
            "text/plain": [
              "<Figure size 640x480 with 1 Axes>"
            ]
          },
          "metadata": {},
          "output_type": "display_data"
        }
      ],
      "source": [
        "# 7.1 Barras de eficiencia por mes\n",
        "plt.figure()\n",
        "plt.bar(df['Mes'], df['Eficiencia'])\n",
        "plt.title('Eficiencia (Ventas/Publicidad) por mes')\n",
        "plt.xlabel('Mes')\n",
        "plt.ylabel('Eficiencia')\n",
        "plt.show()\n"
      ]
    },
    {
      "cell_type": "code",
      "execution_count": 8,
      "metadata": {},
      "outputs": [
        {
          "data": {
            "image/png": "[encoded data removed]",
            "text/plain": [
              "<Figure size 640x480 with 1 Axes>"
            ]
          },
          "metadata": {},
          "output_type": "display_data"
        }
      ],
      "source": [
        "# 7.2 Línea de conversión por mes\n",
        "plt.figure()\n",
        "plt.plot(df['Mes'], df['Conversion'], marker='o')\n",
        "plt.title('Conversión (%) por mes')\n",
        "plt.xlabel('Mes')\n",
        "plt.ylabel('Conversión (%)')\n",
        "plt.show()\n"
      ]
    },
    {
      "cell_type": "code",
      "execution_count": 9,
      "metadata": {},
      "outputs": [
        {
          "data": {
            "image/png": "[encoded data removed]",
            "text/plain": [
              "<Figure size 640x480 with 1 Axes>"
            ]
          },
          "metadata": {},
          "output_type": "display_data"
        }
      ],
      "source": [
        "# 7.3 Ticket promedio por mes\n",
        "plt.figure()\n",
        "plt.bar(df['Mes'], df['Ticket'])\n",
        "plt.title('Ticket promedio por mes')\n",
        "plt.xlabel('Mes')\n",
        "plt.ylabel('Ticket promedio ($)')\n",
        "plt.show()\n"
      ]
    },
    {
      "cell_type": "code",
      "execution_count": 10,
      "metadata": {},
      "outputs": [
        {
          "data": {
            "image/png": "[encoded data removed]",
            "text/plain": [
              "<Figure size 640x480 with 1 Axes>"
            ]
          },
          "metadata": {},
          "output_type": "display_data"
        }
      ],
      "source": [
        "# 7.4 Dispersión Visitantes vs Ventas (para visualizar correlación)\n",
        "plt.figure()\n",
        "plt.scatter(df['Visitantes'], df['Ventas'])\n",
        "plt.title('Relación Visitantes vs Ventas')\n",
        "plt.xlabel('Visitantes')\n",
        "plt.ylabel('Ventas ($)')\n",
        "plt.show()\n"
      ]
    },
    {
      "cell_type": "markdown",
      "metadata": {},
      "source": [
        "## 8) Interpretación de resultados\n",
        "\n",
        "- **Eficiencia (Ventas/Publicidad)**: el mes con mayor eficiencia suele ser **Abr**, porque con un gasto\n",
        "  proporcional obtiene más ventas (ver barra más alta).  \n",
        "- **Conversión**: la tasa más alta típicamente es **Mar** (3.8%), lo que sugiere campañas o UX más efectivas.  \n",
        "- **Ticket promedio**: ronda los **$100** (Ventas/Productos); verificar valores en la tabla.  \n",
        "- **Correlación Visitantes–Ventas**: positiva y elevada (cerca de 1), lo que indica que aumentar visitantes\n",
        "  se asocia a más ventas. **Recuerda:** correlación **no** implica causalidad.\n",
        "\n",
        "> Recomendación: profundizar en pruebas A/B para entender qué variables impactan conversión y eficiencia.\n"
      ]
    }
  ],
  "metadata": {
    "kernelspec": {
      "display_name": "Python 3",
      "language": "python",
      "name": "python3"
    },
    "language_info": {
      "codemirror_mode": {
        "name": "ipython",
        "version": 3
      },
      "file_extension": ".py",
      "mimetype": "text/x-python",
      "name": "python",
      "nbconvert_exporter": "python",
      "pygments_lexer": "ipython3",
      "version": "3.13.7"
    }
  },
  "nbformat": 4,
  "nbformat_minor": 5
}
