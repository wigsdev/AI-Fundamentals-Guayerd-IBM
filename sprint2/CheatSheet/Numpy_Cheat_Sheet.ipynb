{
 "cells": [
  {
   "cell_type": "markdown",
   "metadata": {},
   "source": [
    "## Guía rápida de Python para ciencia de datos: conceptos básicos de NumPy\n"
   ]
  },
  {
   "cell_type": "markdown",
   "metadata": {},
   "source": [
    "### Aprende Python para la ciencia de datos de forma interactiva en www.DataCamp.com"
   ]
  },
  {
   "cell_type": "markdown",
   "metadata": {},
   "source": [
    "### NumPy\n",
    "La librería NumPy es la librería principal para computación científica en Python. Proporciona un objeto de array multidimensional de alto rendimiento y herramientas para trabajar con estos arrays.\n",
    "\n",
    "Usa la siguiente convención de importación:"
   ]
  },
  {
   "cell_type": "code",
   "execution_count": 2,
   "metadata": {},
   "outputs": [],
   "source": [
    "import numpy as np"
   ]
  },
  {
   "cell_type": "markdown",
   "metadata": {},
   "source": [
    "### Creando Arrays"
   ]
  },
  {
   "cell_type": "code",
   "execution_count": 3,
   "metadata": {},
   "outputs": [],
   "source": [
    "a = np.array([1,2,3])\n",
    "b = np.array([(1.5,2,3), (4,5,6)], dtype = float)\n",
    "c = np.array([[(1.5,2,3), (4,5,6)], [(3,2,1), (4,5,6)]], dtype = float)"
   ]
  },
  {
   "cell_type": "markdown",
   "metadata": {},
   "source": [
    "### Marcadores de Posición Iniciales (Initial Placeholders)"
   ]
  },
  {
   "cell_type": "code",
   "execution_count": null,
   "metadata": {},
   "outputs": [],
   "source": [
    "np.zeros((3,4)) # Crear un array de ceros\n",
    "np.ones((2,3,4), dtype=np.int16) # Crear un array de unos\n",
    "d = np.arange(10,25,5) # Crear un array de valores espaciados uniformemente (valor de paso)\n",
    "np.linspace(0,2,9) # Crear un array de valores espaciados uniformemente (número de muestras)\n",
    "e = np.full((2,2),7) # Crear un array constante\n",
    "f = np.eye(2) # Crear una matriz identidad 2x2\n",
    "np.random.random((2,2)) # Crear un array con valores aleatorios\n",
    "np.empty((3,2)) # Crear un array vacío"
   ]
  },
  {
   "cell_type": "markdown",
   "metadata": {},
   "source": [
    "### I/O - Guardar y Cargar"
   ]
  },
  {
   "cell_type": "code",
   "execution_count": null,
   "metadata": {},
   "outputs": [],
   "source": [
    "# Guardar y cargar en disco\n",
    "np.save('my_array', a)\n",
    "np.savez('array.npz', a, b)\n",
    "np.load('my_array.npy')\n",
    "\n",
    "# Guardar y cargar archivos de texto\n",
    "np.loadtxt(\"myfile.txt\")\n",
    "np.genfromtxt(\"my_file.csv\", delimiter=',')\n",
    "np.savetxt(\"myarray.txt\", a, delimiter=\" \")"
   ]
  },
  {
   "cell_type": "markdown",
   "metadata": {},
   "source": [
    "### Tipos de Datos"
   ]
  },
  {
   "cell_type": "code",
   "execution_count": null,
   "metadata": {},
   "outputs": [],
   "source": [
    "np.int64 # Tipos enteros con signo de 64 bits\n",
    "np.float32 # Números de punto flotante de doble precisión estándar\n",
    "np.complex # Números complejos representados por 128 floats\n",
    "np.bool # Tipo booleano que almacena los valores VERDADERO y FALSO\n",
    "np.object # Tipo de objeto de Python\n",
    "np.string_ # Tipo de cadena de longitud fija\n",
    "np.unicode_ # Tipo Unicode de longitud fija"
   ]
  },
  {
   "cell_type": "markdown",
   "metadata": {},
   "source": [
    "### Inspeccionando tu Array"
   ]
  },
  {
   "cell_type": "code",
   "execution_count": null,
   "metadata": {},
   "outputs": [],
   "source": [
    "a.shape # Dimensiones del array\n",
    "len(a) # Longitud del array\n",
    "b.ndim # Número de dimensiones del array\n",
    "e.size # Número de elementos del array\n",
    "b.dtype # Tipo de dato de los elementos del array\n",
    "b.dtype.name # Nombre del tipo de dato\n",
    "b.astype(int) # Convierte un array a un tipo diferente"
   ]
  },
  {
   "cell_type": "markdown",
   "metadata": {},
   "source": [
    "### Pedir ayuda"
   ]
  },
  {
   "cell_type": "code",
   "execution_count": null,
   "metadata": {},
   "outputs": [],
   "source": [
    "np.info(np.ndarray.dtype)"
   ]
  },
  {
   "cell_type": "markdown",
   "metadata": {},
   "source": [
    "### Matemáticas de Arrays"
   ]
  },
  {
   "cell_type": "markdown",
   "metadata": {},
   "source": [
    "#### Operaciones Aritméticas"
   ]
  },
  {
   "cell_type": "code",
   "execution_count": null,
   "metadata": {},
   "outputs": [],
   "source": [
    "# Definimos los arrays\n",
    "a = np.array([1, 2, 3])\n",
    "b = np.array([(1.5, 2, 3), (4, 5, 6)], dtype=float)\n",
    "a - b # Sustracción\n",
    "np.subtract(a,b)\n",
    "b + a # Adición\n",
    "np.add(b,a)\n",
    "a / b # División\n",
    "np.divide(a,b)\n",
    "a * b # Multiplicación\n",
    "np.multiply(a,b)\n",
    "np.exp(b) # Exponenciación\n",
    "np.sqrt(b) # Raíz cuadrada\n",
    "np.sin(a) # Seno de un array\n",
    "np.cos(b) # Coseno de un array\n",
    "np.log(a) # Logaritmo natural\n",
    "e.dot(f) # Producto punto"
   ]
  },
  {
   "cell_type": "markdown",
   "metadata": {},
   "source": [
    "#### Comparación"
   ]
  },
  {
   "cell_type": "code",
   "execution_count": null,
   "metadata": {},
   "outputs": [],
   "source": [
    "a == b # Comparación elemento a elemento\n",
    "a < 2 # Comparación elemento a elemento\n",
    "np.array_equal(a, b) # Comparación de arrays"
   ]
  },
  {
   "cell_type": "markdown",
   "metadata": {},
   "source": [
    "#### Funciones de Agregación"
   ]
  },
  {
   "cell_type": "code",
   "execution_count": null,
   "metadata": {},
   "outputs": [],
   "source": [
    "a.sum() # Suma de todos los elementos\n",
    "a.min() # Mínimo del array\n",
    "b.max(axis=0) # Máximo de una fila del array\n",
    "b.cumsum(axis=1) # Suma acumulada de los elementos\n",
    "a.mean() # Media\n",
    "b.median() # Mediana\n",
    "a.corrcoef() # Coeficiente de correlación\n",
    "np.std(b) # Desviación estándar"
   ]
  },
  {
   "cell_type": "markdown",
   "metadata": {},
   "source": [
    "### Copiando Arrays"
   ]
  },
  {
   "cell_type": "code",
   "execution_count": null,
   "metadata": {},
   "outputs": [],
   "source": [
    "h = a.view() # Crear una vista del array con los mismos datos\n",
    "np.copy(a) # Crear una copia del array\n",
    "h = a.copy() # Crear una copia profunda del array"
   ]
  },
  {
   "cell_type": "markdown",
   "metadata": {},
   "source": [
    "### Ordenando Arrays"
   ]
  },
  {
   "cell_type": "code",
   "execution_count": null,
   "metadata": {},
   "outputs": [],
   "source": [
    "a.sort() # Ordenar un array\n",
    "c.sort(axis=0) # Ordenar los elementos del eje de un array"
   ]
  },
  {
   "cell_type": "markdown",
   "metadata": {},
   "source": [
    "### Subsetting, Slicing, Indexing"
   ]
  },
  {
   "cell_type": "markdown",
   "metadata": {},
   "source": [
    "#### Subsetting"
   ]
  },
  {
   "cell_type": "code",
   "execution_count": 22,
   "metadata": {},
   "outputs": [
    {
     "data": {
      "text/plain": [
       "np.float64(6.0)"
      ]
     },
     "execution_count": 22,
     "metadata": {},
     "output_type": "execute_result"
    }
   ],
   "source": [
    "a[2] # Seleccionar el elemento en el índice 2\n",
    "b[1,2] # Seleccionar el elemento en la fila 1, columna 2 (equivalente a [1][2])"
   ]
  },
  {
   "cell_type": "markdown",
   "metadata": {},
   "source": [
    "#### Slicing"
   ]
  },
  {
   "cell_type": "code",
   "execution_count": 23,
   "metadata": {},
   "outputs": [
    {
     "data": {
      "text/plain": [
       "array([3, 2, 1])"
      ]
     },
     "execution_count": 23,
     "metadata": {},
     "output_type": "execute_result"
    }
   ],
   "source": [
    "a[0:2] # Seleccionar elementos en los índices 0 y 1\n",
    "b[0:2,1] # Seleccionar elementos en las filas 0 y 1 de la columna 1\n",
    "b[:1] # Seleccionar todos los elementos de la fila 0 (equivalente a b[0:1, :])\n",
    "c[1,...] # Same as [1,:,:]\n",
    "a[::-1] # Array invertido"
   ]
  },
  {
   "cell_type": "markdown",
   "metadata": {},
   "source": [
    "#### Indexación Booleana"
   ]
  },
  {
   "cell_type": "code",
   "execution_count": null,
   "metadata": {},
   "outputs": [],
   "source": [
    "a[a<2] # Seleccionar elementos de 'a' menores que 2"
   ]
  },
  {
   "cell_type": "markdown",
   "metadata": {},
   "source": [
    "#### Fancy Indexing"
   ]
  },
  {
   "cell_type": "code",
   "execution_count": null,
   "metadata": {},
   "outputs": [],
   "source": [
    "b[[1, 0, 1, 0],[0, 1, 2, 0]] # Seleccionar elementos (1,0), (0,1), (1,2) y (0,0)\n",
    "b[[1, 0, 0]][:,[0,1,2.0]] # Select a subset of the matrix’s rows and columns"
   ]
  },
  {
   "cell_type": "markdown",
   "metadata": {},
   "source": [
    "### Manipulación de Arrays"
   ]
  },
  {
   "cell_type": "markdown",
   "metadata": {},
   "source": [
    "#### Transponer Array"
   ]
  },
  {
   "cell_type": "code",
   "execution_count": null,
   "metadata": {},
   "outputs": [],
   "source": [
    "i = np.transpose(b) # Permutar las dimensiones del array\n",
    "i.T"
   ]
  },
  {
   "cell_type": "markdown",
   "metadata": {},
   "source": [
    "#### Cambiar la Forma del Array"
   ]
  },
  {
   "cell_type": "code",
   "execution_count": null,
   "metadata": {},
   "outputs": [],
   "source": [
    "b.ravel() # Aplanar el array\n",
    "g.reshape(3,-2) # Remodelar, pero sin cambiar los datos"
   ]
  },
  {
   "cell_type": "markdown",
   "metadata": {},
   "source": [
    "#### Añadir/Eliminar Elementos"
   ]
  },
  {
   "cell_type": "code",
   "execution_count": null,
   "metadata": {},
   "outputs": [],
   "source": [
    "h.resize(2,6) # Return a new array with shape (2,6)\n",
    "np.append(h,g) # Añadir elementos a un array\n",
    "np.insert(a, 1, 5) # Insertar elementos en un array\n",
    "np.delete(a, [1]) # Eliminar elementos de un array"
   ]
  },
  {
   "cell_type": "markdown",
   "metadata": {},
   "source": [
    "#### Combinar Arrays"
   ]
  },
  {
   "cell_type": "code",
   "execution_count": null,
   "metadata": {},
   "outputs": [],
   "source": [
    "np.concatenate((a,d),axis=0) # Concatenar arrays\n",
    "np.vstack((a,b)) # Apilar arrays verticalmente (por filas)\n",
    "np.r_[e,f] # Stack arrays vertically (row-wise)\n",
    "np.hstack((e,f))# Apilar arrays horizontalmente (por columnas)\n",
    "np.column_stack((a,d)) # Apilar arrays en columnas\n",
    "np.c_[a,d] # Create stacked column-wise arrays"
   ]
  },
  {
   "cell_type": "markdown",
   "metadata": {},
   "source": [
    "#### Dividir Arrays"
   ]
  },
  {
   "cell_type": "code",
   "execution_count": null,
   "metadata": {},
   "outputs": [],
   "source": [
    "np.hsplit(a,3) # Dividir el array horizontalmente en el índice 3\n",
    "np.vsplit(c,2) # Dividir el array verticalmente en el índice 2"
   ]
  }
 ],
 "metadata": {
  "kernelspec": {
   "display_name": "Python 3",
   "language": "python",
   "name": "python3"
  },
  "language_info": {
   "codemirror_mode": {
    "name": "ipython",
    "version": 3
   },
   "file_extension": ".py",
   "mimetype": "text/x-python",
   "name": "python",
   "nbconvert_exporter": "python",
   "pygments_lexer": "ipython3",
   "version": "3.13.7"
  }
 },
 "nbformat": 4,
 "nbformat_minor": 4
}
