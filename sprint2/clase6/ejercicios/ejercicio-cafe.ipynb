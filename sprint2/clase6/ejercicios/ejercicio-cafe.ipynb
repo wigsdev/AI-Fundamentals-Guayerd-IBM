{
 "cells": [
  {
   "cell_type": "markdown",
   "id": "3b33f79a",
   "metadata": {},
   "source": [
    "# Análisis de Datos: El Café de Barrio\n",
    "\n",
    "En este ejercicio, analizarás los datos de un pequeño café para extraer información valiosa que ayude a la toma de decisiones."
   ]
  },
  {
   "cell_type": "markdown",
   "id": "55cafc05",
   "metadata": {},
   "source": [
    "### 1. Carga de Datos\n",
    "\n",
    "Primero, vamos a cargar los datos en un DataFrame de Pandas."
   ]
  },
  {
   "cell_type": "code",
   "execution_count": 1,
   "id": "6630b8d5",
   "metadata": {},
   "outputs": [
    {
     "name": "stdout",
     "output_type": "stream",
     "text": [
      "DataFrame creado:\n"
     ]
    },
    {
     "data": {
      "text/html": [
       "<div>\n",
       "<style scoped>\n",
       "    .dataframe tbody tr th:only-of-type {\n",
       "        vertical-align: middle;\n",
       "    }\n",
       "\n",
       "    .dataframe tbody tr th {\n",
       "        vertical-align: top;\n",
       "    }\n",
       "\n",
       "    .dataframe thead th {\n",
       "        text-align: right;\n",
       "    }\n",
       "</style>\n",
       "<table border=\"1\" class=\"dataframe\">\n",
       "  <thead>\n",
       "    <tr style=\"text-align: right;\">\n",
       "      <th></th>\n",
       "      <th>Ventas ($)</th>\n",
       "      <th>Temp (°C)</th>\n",
       "      <th>Publicidad ($)</th>\n",
       "      <th>Personal</th>\n",
       "      <th>Satisfacción</th>\n",
       "    </tr>\n",
       "    <tr>\n",
       "      <th>Mes</th>\n",
       "      <th></th>\n",
       "      <th></th>\n",
       "      <th></th>\n",
       "      <th></th>\n",
       "      <th></th>\n",
       "    </tr>\n",
       "  </thead>\n",
       "  <tbody>\n",
       "    <tr>\n",
       "      <th>Ene</th>\n",
       "      <td>15000</td>\n",
       "      <td>18</td>\n",
       "      <td>800</td>\n",
       "      <td>4</td>\n",
       "      <td>4.2</td>\n",
       "    </tr>\n",
       "    <tr>\n",
       "      <th>Feb</th>\n",
       "      <td>22000</td>\n",
       "      <td>25</td>\n",
       "      <td>1200</td>\n",
       "      <td>5</td>\n",
       "      <td>4.5</td>\n",
       "    </tr>\n",
       "    <tr>\n",
       "      <th>Mar</th>\n",
       "      <td>18000</td>\n",
       "      <td>22</td>\n",
       "      <td>900</td>\n",
       "      <td>4</td>\n",
       "      <td>4.1</td>\n",
       "    </tr>\n",
       "    <tr>\n",
       "      <th>Abr</th>\n",
       "      <td>28000</td>\n",
       "      <td>28</td>\n",
       "      <td>1500</td>\n",
       "      <td>6</td>\n",
       "      <td>4.8</td>\n",
       "    </tr>\n",
       "    <tr>\n",
       "      <th>May</th>\n",
       "      <td>25000</td>\n",
       "      <td>30</td>\n",
       "      <td>1300</td>\n",
       "      <td>5</td>\n",
       "      <td>4.6</td>\n",
       "    </tr>\n",
       "  </tbody>\n",
       "</table>\n",
       "</div>"
      ],
      "text/plain": [
       "     Ventas ($)  Temp (°C)  Publicidad ($)  Personal  Satisfacción\n",
       "Mes                                                               \n",
       "Ene       15000         18             800         4           4.2\n",
       "Feb       22000         25            1200         5           4.5\n",
       "Mar       18000         22             900         4           4.1\n",
       "Abr       28000         28            1500         6           4.8\n",
       "May       25000         30            1300         5           4.6"
      ]
     },
     "execution_count": 1,
     "metadata": {},
     "output_type": "execute_result"
    }
   ],
   "source": [
    "import pandas as pd\n",
    "import io\n",
    "\n",
    "data = {\n",
    "    'Mes': ['Ene', 'Feb', 'Mar', 'Abr', 'May'],\n",
    "    'Ventas ($)': [15000, 22000, 18000, 28000, 25000],\n",
    "    'Temp (°C)': [18, 25, 22, 28, 30],\n",
    "    'Publicidad ($)': [800, 1200, 900, 1500, 1300],\n",
    "    'Personal': [4, 5, 4, 6, 5],\n",
    "    'Satisfacción': [4.2, 4.5, 4.1, 4.8, 4.6]\n",
    "}\n",
    "\n",
    "df = pd.DataFrame(data)\n",
    "df.set_index('Mes', inplace=True)\n",
    "print(\"DataFrame creado:\")\n",
    "df"
   ]
  },
  {
   "cell_type": "markdown",
   "id": "f902f063",
   "metadata": {},
   "source": [
    "---"
   ]
  },
  {
   "cell_type": "markdown",
   "id": "ef8d454f",
   "metadata": {},
   "source": [
    "### 2. Calcular la correlación entre temperatura y ventas\n",
    "\n",
    "Encuentra la relación numérica entre la temperatura promedio del mes y las ventas."
   ]
  },
  {
   "cell_type": "markdown",
   "id": "d723eede",
   "metadata": {},
   "source": [
    "**Pista:** Selecciona las dos columnas que te interesan (`'Temp (°C)'` y `'Ventas ($)'`) y utiliza el método `.corr()` para calcular la correlación entre ellas."
   ]
  },
  {
   "cell_type": "code",
   "execution_count": 5,
   "id": "f7aaf8d9",
   "metadata": {},
   "outputs": [
    {
     "data": {
      "text/html": [
       "<div>\n",
       "<style scoped>\n",
       "    .dataframe tbody tr th:only-of-type {\n",
       "        vertical-align: middle;\n",
       "    }\n",
       "\n",
       "    .dataframe tbody tr th {\n",
       "        vertical-align: top;\n",
       "    }\n",
       "\n",
       "    .dataframe thead th {\n",
       "        text-align: right;\n",
       "    }\n",
       "</style>\n",
       "<table border=\"1\" class=\"dataframe\">\n",
       "  <thead>\n",
       "    <tr style=\"text-align: right;\">\n",
       "      <th></th>\n",
       "      <th>Ventas ($)</th>\n",
       "      <th>Temp (°C)</th>\n",
       "    </tr>\n",
       "  </thead>\n",
       "  <tbody>\n",
       "    <tr>\n",
       "      <th>Ventas ($)</th>\n",
       "      <td>1.000000</td>\n",
       "      <td>0.933915</td>\n",
       "    </tr>\n",
       "    <tr>\n",
       "      <th>Temp (°C)</th>\n",
       "      <td>0.933915</td>\n",
       "      <td>1.000000</td>\n",
       "    </tr>\n",
       "  </tbody>\n",
       "</table>\n",
       "</div>"
      ],
      "text/plain": [
       "            Ventas ($)  Temp (°C)\n",
       "Ventas ($)    1.000000   0.933915\n",
       "Temp (°C)     0.933915   1.000000"
      ]
     },
     "execution_count": 5,
     "metadata": {},
     "output_type": "execute_result"
    }
   ],
   "source": [
    "# Tu código aquí\n",
    "ventas_por_temp = df[[\"Ventas ($)\", \"Temp (°C)\"]]\n",
    "ventas_por_temp.corr()"
   ]
  },
  {
   "cell_type": "markdown",
   "id": "496bb6bb",
   "metadata": {},
   "source": [
    "---"
   ]
  },
  {
   "cell_type": "markdown",
   "id": "126bb9f9",
   "metadata": {},
   "source": [
    "### 3. Identificar el mes con mejor retorno publicitario\n",
    "\n",
    "Calcula una nueva columna que represente el retorno de la inversión publicitaria (Ventas / Publicidad) y encuentra el mes con el valor más alto."
   ]
  },
  {
   "cell_type": "markdown",
   "id": "bd2ad5c6",
   "metadata": {},
   "source": [
    "**Pista:** \n",
    "1. Crea una nueva columna, por ejemplo, `'Retorno_Publicitario'`. \n",
    "2. Asigna a esta columna el resultado de dividir la columna `'Ventas ($)'` entre la columna `'Publicidad ($)'`.\n",
    "3. Utiliza el método `.idxmax()` en la nueva columna para obtener el índice (el mes) del valor máximo."
   ]
  },
  {
   "cell_type": "code",
   "execution_count": 9,
   "id": "64b7b4b5",
   "metadata": {},
   "outputs": [
    {
     "data": {
      "text/plain": [
       "'Mar'"
      ]
     },
     "execution_count": 9,
     "metadata": {},
     "output_type": "execute_result"
    }
   ],
   "source": [
    "# Tu código aquí\n",
    "df[\"Retorno_Publicitario\"] = df[\"Ventas ($)\"] / df[\"Publicidad ($)\"]\n",
    "df[\"Retorno_Publicitario\"].idxmax()"
   ]
  },
  {
   "cell_type": "markdown",
   "id": "f4ff1842",
   "metadata": {},
   "source": [
    "---"
   ]
  },
  {
   "cell_type": "markdown",
   "id": "5038bf65",
   "metadata": {},
   "source": [
    "### 4. Analizar la relación entre la cantidad de personal y la satisfacción del cliente\n",
    "\n",
    "Determina si existe una correlación entre el número de empleados trabajando y la puntuación de satisfacción del cliente."
   ]
  },
  {
   "cell_type": "markdown",
   "id": "f6bb0d73",
   "metadata": {},
   "source": [
    "**Pista:** Al igual que en el primer ejercicio, selecciona las columnas `'Personal'` y `'Satisfacción'` y utiliza el método `.corr()`."
   ]
  },
  {
   "cell_type": "code",
   "execution_count": 8,
   "id": "a402c446",
   "metadata": {},
   "outputs": [
    {
     "data": {
      "text/html": [
       "<div>\n",
       "<style scoped>\n",
       "    .dataframe tbody tr th:only-of-type {\n",
       "        vertical-align: middle;\n",
       "    }\n",
       "\n",
       "    .dataframe tbody tr th {\n",
       "        vertical-align: top;\n",
       "    }\n",
       "\n",
       "    .dataframe thead th {\n",
       "        text-align: right;\n",
       "    }\n",
       "</style>\n",
       "<table border=\"1\" class=\"dataframe\">\n",
       "  <thead>\n",
       "    <tr style=\"text-align: right;\">\n",
       "      <th></th>\n",
       "      <th>Personal</th>\n",
       "      <th>Satisfacción</th>\n",
       "    </tr>\n",
       "  </thead>\n",
       "  <tbody>\n",
       "    <tr>\n",
       "      <th>Personal</th>\n",
       "      <td>1.000000</td>\n",
       "      <td>0.974944</td>\n",
       "    </tr>\n",
       "    <tr>\n",
       "      <th>Satisfacción</th>\n",
       "      <td>0.974944</td>\n",
       "      <td>1.000000</td>\n",
       "    </tr>\n",
       "  </tbody>\n",
       "</table>\n",
       "</div>"
      ],
      "text/plain": [
       "              Personal  Satisfacción\n",
       "Personal      1.000000      0.974944\n",
       "Satisfacción  0.974944      1.000000"
      ]
     },
     "execution_count": 8,
     "metadata": {},
     "output_type": "execute_result"
    }
   ],
   "source": [
    "# Tu código aquí\n",
    "personal_satisfaccion = df[[\"Personal\", \"Satisfacción\"]]\n",
    "personal_satisfaccion.corr()"
   ]
  },
  {
   "cell_type": "markdown",
   "id": "9aa8bb9b",
   "metadata": {},
   "source": [
    "---"
   ]
  },
  {
   "cell_type": "markdown",
   "id": "dd0b02e8",
   "metadata": {},
   "source": [
    "### 5. Proponer una estrategia basada en datos\n",
    "\n",
    "Basándote en los análisis anteriores, ¿qué recomendación le darías al dueño del café?"
   ]
  },
  {
   "cell_type": "markdown",
   "id": "371854df",
   "metadata": {},
   "source": [
    "**Pista:** Esta es una pregunta abierta. Escribe una conclusión en una celda de texto (Markdown). Considera: ¿Qué factores parecen impulsar más las ventas? ¿En qué mes fue más efectiva la publicidad? ¿Contratar más personal mejora la satisfacción? Resume tus hallazgos."
   ]
  },
  {
   "cell_type": "markdown",
   "id": "c097f31b",
   "metadata": {},
   "source": [
    "### Análisis y Recomendaciones Estratégicas para el Café\n",
    "\n",
    "Tras el análisis de los datos operativos de los últimos cinco meses, hemos identificado las siguientes palancas de crecimiento y áreas de mejora. Se recomienda tomar acción en los siguientes puntos para optimizar el rendimiento del negocio:\n",
    "\n",
    "1. Capitalizar la Demanda Estacional: Existe una fuerte correlación positiva (0.93) entre la temperatura y las ventas.\n",
    "\n",
    "- *Observación:* Los meses más cálidos impulsan directamente un aumento en los ingresos.\n",
    "- *Recomendación:* Anticipar la demanda durante los meses de primavera y verano, asegurando tener suficiente inventario y personal para capitalizar este patrón estacional.\n",
    "\n",
    "2. Mejorar la Experiencia del Cliente a través del Personal: La satisfacción del cliente está directamente ligada a la cantidad de personal (correlación de 0.97).\n",
    "\n",
    "- *Observación:* Una mayor dotación de personal se traduce en clientes más satisfechos.\n",
    "- *Recomendación:* Invertir en una adecuada dotación de personal, especialmente durante las horas pico y los meses de alta demanda (ver punto 1), no debe ser visto como un costo, sino como una inversión directa en la calidad del servicio y la lealtad del cliente.\n",
    "\n",
    "3. Optimizar la Inversión Publicitaria: El mes de marzo presentó el retorno de inversión (ROI) publicitario más alto.\n",
    "\n",
    "- *Observación:* No toda la inversión en publicidad rinde igual. En marzo, cada dólar invertido generó más ventas que en otros meses.\n",
    "- *Recomendación:* Analizar las campañas específicas que se realizaron en marzo para replicar su éxito. Se sugiere reevaluar y posiblemente reducir la inversión en periodos de bajo retorno para concentrar el presupuesto en las estrategias más efectivas.\n",
    "\n",
    "**En resumen, alinear la planificación de personal con las tendencias del clima y enfocar la publicidad en las tácticas de mayor impacto permitirá no solo maximizar los ingresos, sino también construir una base de clientes más sólida y satisfecha.**"
   ]
  },
  {
   "cell_type": "markdown",
   "id": "a77c819c",
   "metadata": {},
   "source": [
    "RESPUESTA ALTERNATIVA"
   ]
  },
  {
   "cell_type": "code",
   "execution_count": null,
   "id": "7374cde0",
   "metadata": {},
   "outputs": [
    {
     "name": "stdout",
     "output_type": "stream",
     "text": [
      "Correlación ventas-temp: 0.9339146197235372\n",
      "Mejor retorno publicitario: Mar\n",
      "Correlación personal-satisfacción: 0.974944281032901\n"
     ]
    }
   ],
   "source": [
    "import pandas as pd\n",
    "\n",
    "df = pd.DataFrame({\n",
    "    'Mes': ['Ene', 'Feb', 'Mar', 'Abr', 'May'],\n",
    "    'Ventas': [15000, 22000, 18000, 28000, 25000],\n",
    "    'Temp': [18, 25, 22, 28, 30],\n",
    "    'Publicidad': [800, 1200, 900, 1500, 1300],\n",
    "    'Personal': [4, 5, 4, 6, 5],\n",
    "    'Satisfaccion': [4.2, 4.5, 4.1, 4.8, 4.6]\n",
    "})\n",
    "\n",
    "# --- CORRECTO ---\n",
    "print(\"Correlación ventas-temp:\", df['Ventas'].corr(df['Temp']))\n",
    "\n",
    "# --- CORREGIDO ---\n",
    "# Primero, calcula el retorno\n",
    "df['Retorno'] = df['Ventas'] / df['Publicidad']\n",
    "# Segundo, encuentra el mes con el máximo retorno\n",
    "mes_mejor_retorno = df.loc[df['Retorno'].idxmax(), 'Mes']\n",
    "print(\"Mejor retorno publicitario:\", mes_mejor_retorno)\n",
    "\n",
    "# --- CORRECTO ---\n",
    "print(\"Correlación personal-satisfacción:\", df['Personal'].corr(df['Satisfaccion']))"
   ]
  }
 ],
 "metadata": {
  "kernelspec": {
   "display_name": "Python 3",
   "language": "python",
   "name": "python3"
  },
  "language_info": {
   "codemirror_mode": {
    "name": "ipython",
    "version": 3
   },
   "file_extension": ".py",
   "mimetype": "text/x-python",
   "name": "python",
   "nbconvert_exporter": "python",
   "pygments_lexer": "ipython3",
   "version": "3.13.7"
  }
 },
 "nbformat": 4,
 "nbformat_minor": 5
}
