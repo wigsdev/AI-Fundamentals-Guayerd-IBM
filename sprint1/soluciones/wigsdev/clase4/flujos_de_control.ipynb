{
 "cells": [
  {
   "cell_type": "markdown",
   "metadata": {},
   "source": [
    "## Flujos de Control"
   ]
  },
  {
   "cell_type": "markdown",
   "metadata": {},
   "source": [
    "1) Crear una variable que contenga un elemento del conjunto de números enteros y luego imprimir por pantalla si es mayor o menor a cero"
   ]
  },
  {
   "cell_type": "code",
   "execution_count": 1,
   "metadata": {},
   "outputs": [
    {
     "name": "stdout",
     "output_type": "stream",
     "text": [
      "y es mayor a cero\n"
     ]
    }
   ],
   "source": [
    "y=5\n",
    "if y>0:\n",
    "    print(\"y es mayor a cero\")\n",
    "else:\n",
    "    print(\"y es menor o igual a cero\")"
   ]
  },
  {
   "cell_type": "markdown",
   "metadata": {},
   "source": [
    "2) Crear dos variables y un condicional que informe si son del mismo tipo de dato"
   ]
  },
  {
   "cell_type": "code",
   "execution_count": 1,
   "metadata": {},
   "outputs": [],
   "source": [
    "# Crear dos variables y un condicional que informe si son del mismo tipo de dato\n",
    "a=10\n",
    "b=5.5\n",
    "if type(a) == type(b):\n",
    "    print(\"a y b son del mismo tipo de dato\")"
   ]
  },
  {
   "cell_type": "markdown",
   "metadata": {},
   "source": [
    "3) Para los valores enteros del 1 al 20, imprimir por pantalla si es par o impar"
   ]
  },
  {
   "cell_type": "code",
   "execution_count": 2,
   "metadata": {},
   "outputs": [
    {
     "name": "stdout",
     "output_type": "stream",
     "text": [
      "El numero 1 es impar\n",
      "El numero 2 es par\n",
      "El numero 3 es impar\n",
      "El numero 4 es par\n",
      "El numero 5 es impar\n",
      "El numero 6 es par\n",
      "El numero 7 es impar\n",
      "El numero 8 es par\n",
      "El numero 9 es impar\n",
      "El numero 10 es par\n",
      "El numero 11 es impar\n",
      "El numero 12 es par\n",
      "El numero 13 es impar\n",
      "El numero 14 es par\n",
      "El numero 15 es impar\n",
      "El numero 16 es par\n",
      "El numero 17 es impar\n",
      "El numero 18 es par\n",
      "El numero 19 es impar\n",
      "El numero 20 es par\n"
     ]
    }
   ],
   "source": [
    "i = 1\n",
    "while (i <= 20):\n",
    "    if (i % 2 == 0):\n",
    "        print(f'El numero {i} es par')\n",
    "    else:\n",
    "        print(f'El numero {i} es impar')\n",
    "    i = i + 1"
   ]
  },
  {
   "cell_type": "markdown",
   "metadata": {},
   "source": [
    "4) En un ciclo for mostrar para los valores entre 0 y 5 el resultado de elevarlo a la potencia igual a 3"
   ]
  },
  {
   "cell_type": "code",
   "execution_count": 3,
   "metadata": {},
   "outputs": [
    {
     "name": "stdout",
     "output_type": "stream",
     "text": [
      "0 elevado a la potencia 3 es igual a 0\n",
      "1 elevado a la potencia 3 es igual a 1\n",
      "2 elevado a la potencia 3 es igual a 8\n",
      "3 elevado a la potencia 3 es igual a 27\n",
      "4 elevado a la potencia 3 es igual a 64\n",
      "5 elevado a la potencia 3 es igual a 125\n"
     ]
    }
   ],
   "source": [
    "# En un ciclo for mostrar para los valores entre 0 y 5 el resultado de elevarlo a la potencia igual a 3\n",
    "for i in range(6):\n",
    "    print(f'{i} elevado a la potencia 3 es igual a {i**3}')"
   ]
  },
  {
   "cell_type": "markdown",
   "metadata": {},
   "source": [
    "5) Crear una variable que contenga un número entero y realizar un ciclo for la misma cantidad de ciclos"
   ]
  },
  {
   "cell_type": "code",
   "execution_count": 4,
   "metadata": {},
   "outputs": [
    {
     "name": "stdout",
     "output_type": "stream",
     "text": [
      "Estamos en el ciclo 1\n",
      "Estamos en el ciclo 2\n",
      "Estamos en el ciclo 3\n",
      "Estamos en el ciclo 4\n",
      "Estamos en el ciclo 5\n",
      "Estamos en el ciclo 6\n",
      "Estamos en el ciclo 7\n"
     ]
    }
   ],
   "source": [
    "# Crear una variable que contenga un número entero y realizar un ciclo for la misma cantidad de ciclos\n",
    "n = 7\n",
    "for i in range(n):\n",
    "    print(f'Estamos en el ciclo {i+1}')"
   ]
  },
  {
   "cell_type": "markdown",
   "metadata": {},
   "source": [
    "6) Utilizar un ciclo while para realizar el factorial de un número guardado en una variable, sólo si la variable contiene un número entero mayor a 0"
   ]
  },
  {
   "cell_type": "code",
   "execution_count": 5,
   "metadata": {},
   "outputs": [
    {
     "name": "stdout",
     "output_type": "stream",
     "text": [
      "El factorial de 3 es 6\n"
     ]
    }
   ],
   "source": [
    "# Utilizar un ciclo while para realizar el factorial de un número guardado en una variable, sólo si la variable contiene un número entero mayor a 0\n",
    "while True:\n",
    "    num = input(\"Ingrese un número entero mayor a 0 para calcular su factorial: \")\n",
    "    try:\n",
    "        num = int(num)\n",
    "        if num > 0:\n",
    "            factorial = 1\n",
    "            i = 1\n",
    "            while i <= num:\n",
    "                factorial *= i\n",
    "                i += 1\n",
    "            print(f'El factorial de {num} es {factorial}')\n",
    "            break\n",
    "        else:\n",
    "            print(\"El número debe ser mayor a 0. Intente nuevamente.\")\n",
    "    except ValueError:\n",
    "        print(\"Entrada inválida. Por favor, ingrese un número entero.\")"
   ]
  },
  {
   "cell_type": "markdown",
   "metadata": {},
   "source": [
    "7) Crear un ciclo for dentro de un ciclo while"
   ]
  },
  {
   "cell_type": "code",
   "execution_count": 7,
   "metadata": {},
   "outputs": [
    {
     "name": "stdout",
     "output_type": "stream",
     "text": [
      "Tabla de multiplicar del 4:\n",
      "4 x 1 = 4\n",
      "4 x 2 = 8\n",
      "4 x 3 = 12\n",
      "4 x 4 = 16\n",
      "4 x 5 = 20\n",
      "4 x 6 = 24\n",
      "4 x 7 = 28\n",
      "4 x 8 = 32\n",
      "4 x 9 = 36\n",
      "4 x 10 = 40\n",
      "Tabla de multiplicar del 4:\n",
      "4 x 1 = 4\n",
      "4 x 2 = 8\n",
      "4 x 3 = 12\n",
      "4 x 4 = 16\n",
      "4 x 5 = 20\n",
      "4 x 6 = 24\n",
      "4 x 7 = 28\n",
      "4 x 8 = 32\n",
      "4 x 9 = 36\n",
      "4 x 10 = 40\n",
      "Tabla de multiplicar del 5:\n",
      "5 x 1 = 5\n",
      "5 x 2 = 10\n",
      "5 x 3 = 15\n",
      "5 x 4 = 20\n",
      "5 x 5 = 25\n",
      "5 x 6 = 30\n",
      "5 x 7 = 35\n",
      "5 x 8 = 40\n",
      "5 x 9 = 45\n",
      "5 x 10 = 50\n",
      "Tabla de multiplicar del 5:\n",
      "5 x 1 = 5\n",
      "5 x 2 = 10\n",
      "5 x 3 = 15\n",
      "5 x 4 = 20\n",
      "5 x 5 = 25\n",
      "5 x 6 = 30\n",
      "5 x 7 = 35\n",
      "5 x 8 = 40\n",
      "5 x 9 = 45\n",
      "5 x 10 = 50\n",
      "Saliendo del programa.\n"
     ]
    }
   ],
   "source": [
    "# Crear un ciclo for dentro de un ciclo while\n",
    "while True:\n",
    "    try:\n",
    "        n = int(input(\"Ingrese un número entero positivo para ver su tabla de multiplicar (o un número negativo para salir): \"))\n",
    "        if n < 0:\n",
    "            print(\"Saliendo del programa.\")\n",
    "            break\n",
    "        print(f'Tabla de multiplicar del {n}:')\n",
    "        for i in range(1, 11):\n",
    "            print(f'{n} x {i} = {n * i}')\n",
    "    except ValueError:\n",
    "        print(\"Entrada inválida. Por favor, ingrese un número entero.\")"
   ]
  },
  {
   "cell_type": "markdown",
   "metadata": {},
   "source": [
    "8) Crear un ciclo while dentro de un ciclo for"
   ]
  },
  {
   "cell_type": "code",
   "execution_count": 4,
   "metadata": {},
   "outputs": [
    {
     "name": "stdout",
     "output_type": "stream",
     "text": [
      "Iniciando ciclo while número 1\n",
      "  Iteración 1 del ciclo while dentro del ciclo for 1\n",
      "  Iteración 2 del ciclo while dentro del ciclo for 1\n",
      "  Iteración 3 del ciclo while dentro del ciclo for 1\n",
      "Iniciando ciclo while número 2\n",
      "  Iteración 1 del ciclo while dentro del ciclo for 2\n",
      "  Iteración 2 del ciclo while dentro del ciclo for 2\n",
      "  Iteración 3 del ciclo while dentro del ciclo for 2\n",
      "Iniciando ciclo while número 3\n",
      "  Iteración 1 del ciclo while dentro del ciclo for 3\n",
      "  Iteración 2 del ciclo while dentro del ciclo for 3\n",
      "  Iteración 3 del ciclo while dentro del ciclo for 3\n",
      "Iniciando ciclo while número 4\n",
      "  Iteración 1 del ciclo while dentro del ciclo for 4\n",
      "  Iteración 2 del ciclo while dentro del ciclo for 4\n",
      "  Iteración 3 del ciclo while dentro del ciclo for 4\n",
      "Iniciando ciclo while número 5\n",
      "  Iteración 1 del ciclo while dentro del ciclo for 5\n",
      "  Iteración 2 del ciclo while dentro del ciclo for 5\n",
      "  Iteración 3 del ciclo while dentro del ciclo for 5\n"
     ]
    }
   ],
   "source": [
    "# Crear un ciclo while dentro de un ciclo for\n",
    "for j in range(1, 6):\n",
    "    print(f'Iniciando ciclo while número {j}')\n",
    "    i = 1\n",
    "    while i <= 3:\n",
    "        print(f'  Iteración {i} del ciclo while dentro del ciclo for {j}')\n",
    "        i += 1"
   ]
  },
  {
   "cell_type": "markdown",
   "metadata": {},
   "source": [
    "9) Imprimir los números primos existentes entre 0 y 30"
   ]
  },
  {
   "cell_type": "code",
   "execution_count": 5,
   "metadata": {},
   "outputs": [],
   "source": [
    "# Imprimir los números primos existentes entre 0 y 30\n",
    "def es_primo(num):\n",
    "    if num < 2:\n",
    "        return False\n",
    "    for i in range(2, int(num**0.5) + 1):\n",
    "        if num % i == 0:\n",
    "            return False\n",
    "    return True"
   ]
  },
  {
   "cell_type": "markdown",
   "metadata": {},
   "source": [
    "10) ¿Se puede mejorar el proceso del punto 9? Utilizar las sentencias break y/ó continue para tal fin"
   ]
  },
  {
   "cell_type": "code",
   "execution_count": 6,
   "metadata": {},
   "outputs": [
    {
     "name": "stdout",
     "output_type": "stream",
     "text": [
      "El número 2 es primo\n",
      "El número 3 es primo\n",
      "El número 5 es primo\n",
      "El número 7 es primo\n",
      "El número 11 es primo\n",
      "El número 13 es primo\n",
      "El número 17 es primo\n",
      "El número 19 es primo\n",
      "El número 23 es primo\n",
      "El número 29 es primo\n"
     ]
    }
   ],
   "source": [
    "# ¿Se puede mejorar el proceso del punto 9? Utiliza las sentencias break y/o continue para optimizarlo.\n",
    "for numero in range(31):\n",
    "    if es_primo(numero):\n",
    "        print(f'El número {numero} es primo')"
   ]
  },
  {
   "cell_type": "markdown",
   "metadata": {},
   "source": [
    "11) En los puntos 9 y 10, se diseño un código que encuentra números primos y además se lo optimizó. ¿Es posible saber en qué medida se optimizó?"
   ]
  },
  {
   "cell_type": "code",
   "execution_count": 7,
   "metadata": {},
   "outputs": [
    {
     "name": "stdout",
     "output_type": "stream",
     "text": [
      "Tiempo de ejecución del código optimizado: 0.0001227855682373047 segundos\n"
     ]
    }
   ],
   "source": [
    "# 11) En los puntos 9 y 10, se diseño un código que encuentra números primos y además se lo optimizó. ¿Es posible saber en qué medida se optimizó?\n",
    "# Sí, se puede medir el tiempo de ejecución del código original y del código optimizado utilizando el módulo time.\n",
    "import time\n",
    "start_time = time.time()\n",
    "for numero in range(31):\n",
    "    if es_primo(numero):\n",
    "        pass    \n",
    "end_time = time.time()\n",
    "print(f'Tiempo de ejecución del código optimizado: {end_time - start_time} segundos')\n"
   ]
  },
  {
   "cell_type": "markdown",
   "metadata": {},
   "source": [
    "12) Si la cantidad de números que se evalúa es mayor a treinta, esa optimización crece?"
   ]
  },
  {
   "cell_type": "code",
   "execution_count": null,
   "metadata": {},
   "outputs": [
    {
     "name": "stdout",
     "output_type": "stream",
     "text": [
      "Tiempo de ejecución del código optimizado para 1000 números: 0.001590728759765625 segundos\n"
     ]
    }
   ],
   "source": [
    "# Si la cantidad de números que se evalúa es mayor a treinta, esa optimizacion crece?\n",
    "start_time = time.time()\n",
    "for numero in range(1000):\n",
    "    if es_primo(numero):\n",
    "        pass\n",
    "end_time = time.time()\n",
    "print(f'Tiempo de ejecución del código optimizado para 1000 números: {end_time - start_time} segundos')\n"
   ]
  },
  {
   "cell_type": "markdown",
   "metadata": {},
   "source": [
    "13) Aplicando continue, armar un ciclo while que solo imprima los valores divisibles por 12, dentro del rango de números de 100 a 300"
   ]
  },
  {
   "cell_type": "code",
   "execution_count": 9,
   "metadata": {},
   "outputs": [
    {
     "name": "stdout",
     "output_type": "stream",
     "text": [
      "108\n",
      "120\n",
      "132\n",
      "144\n",
      "156\n",
      "168\n",
      "180\n",
      "192\n",
      "204\n",
      "216\n",
      "228\n",
      "240\n",
      "252\n",
      "264\n",
      "276\n",
      "288\n",
      "300\n"
     ]
    }
   ],
   "source": [
    "# Aplicando continue, armar un ciclo whie que solo imprima los valores divisibles por 12, dentro del rango de números de 100 a 300\n",
    "i = 100\n",
    "while i <= 300:\n",
    "    if i % 12 != 0:\n",
    "        i += 1\n",
    "        continue\n",
    "    print(i)\n",
    "    i += 1 "
   ]
  },
  {
   "cell_type": "markdown",
   "metadata": {},
   "source": [
    "14) Utilizar la función **input()** que permite hacer ingresos por teclado, para encontrar números primos y dar la opción al usario de buscar el siguiente"
   ]
  },
  {
   "cell_type": "code",
   "execution_count": 10,
   "metadata": {},
   "outputs": [
    {
     "name": "stdout",
     "output_type": "stream",
     "text": [
      "El número 3 es primo.\n",
      "El número 5 es primo.\n",
      "El número 9 no es primo.\n",
      "Entrada inválida. Por favor, ingrese un número entero.\n",
      "Entrada inválida. Por favor, ingrese un número entero.\n",
      "Entrada inválida. Por favor, ingrese un número entero.\n",
      "Entrada inválida. Por favor, ingrese un número entero.\n",
      "Entrada inválida. Por favor, ingrese un número entero.\n",
      "Entrada inválida. Por favor, ingrese un número entero.\n",
      "Saliendo del programa.\n"
     ]
    }
   ],
   "source": [
    "# 14) Utilizar la función **input()** que permite hacer ingresos por teclado, para encontrar números primos y dar la opción al usario de buscar el siguiente\n",
    "while True:\n",
    "    try:\n",
    "        num = int(input(\"Ingrese un número entero mayor a 1 para verificar si es primo (o un número negativo para salir): \"))\n",
    "        if num < 0:\n",
    "            print(\"Saliendo del programa.\")\n",
    "            break\n",
    "        if num <= 1:\n",
    "            print(\"El número debe ser mayor a 1. Intente nuevamente.\")\n",
    "            continue\n",
    "        if es_primo(num):\n",
    "            print(f'El número {num} es primo.')\n",
    "        else:\n",
    "            print(f'El número {num} no es primo.')\n",
    "    except ValueError:\n",
    "        print(\"Entrada inválida. Por favor, ingrese un número entero.\")"
   ]
  },
  {
   "cell_type": "markdown",
   "metadata": {},
   "source": [
    "15) Crear un ciclo while que encuentre dentro del rango de 100 a 300 el primer número divisible por 3 y además múltiplo de 6"
   ]
  },
  {
   "cell_type": "code",
   "execution_count": 11,
   "metadata": {},
   "outputs": [
    {
     "name": "stdout",
     "output_type": "stream",
     "text": [
      "El primer número entre 100 y 300 que es divisible por 3 y múltiplo de 6 es: 102\n"
     ]
    }
   ],
   "source": [
    "# 15) Crear un ciclo while que encuentre dentro del rango de 100 a 300 el primer número divisible por 3 y además múltiplo de 6\n",
    "i = 100\n",
    "while i <= 300:\n",
    "    if i % 3 == 0 and i % 6 == 0:\n",
    "        print(f'El primer número entre 100 y 300 que es divisible por 3 y múltiplo de 6 es: {i}')\n",
    "        break\n",
    "    i += 1"
   ]
  }
 ],
 "metadata": {
  "kernelspec": {
   "display_name": "Python 3",
   "language": "python",
   "name": "python3"
  },
  "language_info": {
   "codemirror_mode": {
    "name": "ipython",
    "version": 3
   },
   "file_extension": ".py",
   "mimetype": "text/x-python",
   "name": "python",
   "nbconvert_exporter": "python",
   "pygments_lexer": "ipython3",
   "version": "3.13.7"
  },
  "vscode": {
   "interpreter": {
    "hash": "de8281a228bb66c2c60efdc2ecffdbec8f9385262e02c22a6ff74a2158df972d"
   }
  }
 },
 "nbformat": 4,
 "nbformat_minor": 4
}
