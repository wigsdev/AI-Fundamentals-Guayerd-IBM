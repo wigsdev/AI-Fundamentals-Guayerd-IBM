{
 "cells": [
  {
   "cell_type": "markdown",
   "metadata": {},
   "source": [
    "## Funciones"
   ]
  },
  {
   "cell_type": "markdown",
   "metadata": {},
   "source": [
    "1) Crear una función que reciba un número como parámetro y devuelva True si es primo y False si no lo es"
   ]
  },
  {
   "cell_type": "code",
   "execution_count": 4,
   "metadata": {},
   "outputs": [
    {
     "name": "stdout",
     "output_type": "stream",
     "text": [
      "29 -> True\n"
     ]
    }
   ],
   "source": [
    "# Función que determina si un número es primo\n",
    "def es_primo(numeros):\n",
    "    if numeros < 2:               # Los números menores a 2 no son primos\n",
    "        return False\n",
    "    for i in range(2, int(numeros ** 0.5) + 1):  # Solo probamos hasta la raíz cuadrada\n",
    "        if numeros % i == 0:      # Si es divisible por i, no es primo\n",
    "            return False\n",
    "    return True\n",
    "\n",
    "# Ejemplos de uso \n",
    "numeros = [29]\n",
    "\n",
    "# Mostrar resultados\n",
    "for n in numeros:\n",
    "    print(f\"{n} -> {es_primo(n)}\")"
   ]
  },
  {
   "cell_type": "code",
   "execution_count": 5,
   "metadata": {},
   "outputs": [],
   "source": [
    "numero=29"
   ]
  },
  {
   "cell_type": "markdown",
   "metadata": {},
   "source": [
    "2) Utilizando la función del punto 1, realizar otra función que reciba de parámetro una lista de números y devuelva sólo aquellos que son primos en otra lista"
   ]
  },
  {
   "cell_type": "code",
   "execution_count": 6,
   "metadata": {},
   "outputs": [],
   "source": [
    "# Utilizando la funcion del punto 1, realizar otra funcion que reciba de parámetro una lista de número y devuelva solo aquellos que son primos en otra lista\n",
    "def filtrar_primos(lista_numeros):\n",
    "    return [num for num in lista_numeros if es_primo(num)]\n",
    "lista_numeros = [10, 15, 23, 42, 57, 89, 97]\n",
    "primos = filtrar_primos(lista_numeros)\n"
   ]
  },
  {
   "cell_type": "markdown",
   "metadata": {},
   "source": [
    "3) Crear una función que al recibir una lista de números, devuelva el que más se repite y cuántas veces lo hace. Si hay más de un \"más repetido\", que devuelva cualquiera"
   ]
  },
  {
   "cell_type": "code",
   "execution_count": 9,
   "metadata": {},
   "outputs": [
    {
     "name": "stdout",
     "output_type": "stream",
     "text": [
      "El número que más se repite es 4 y se repite 4 veces.\n"
     ]
    }
   ],
   "source": [
    "# 3) Crear una función que al recibir una lista de números, devuelva el que más se repite y cuántas veces lo hace. Si hay más de un \"más repetido\", que devuelva cualquiera\n",
    "from collections import Counter\n",
    "def numero_mas_repetido(lista_numeros):\n",
    "    if not lista_numeros:\n",
    "        return None, 0\n",
    "    contador = Counter(lista_numeros)\n",
    "    numero, veces = contador.most_common(1)[0]\n",
    "    return numero, veces\n",
    "lista_numeros = [1, 2, 2, 3, 3, 3, 4, 4, 4, 4]\n",
    "numero, veces = numero_mas_repetido(lista_numeros)\n",
    "print(f\"El número que más se repite es {numero} y se repite {veces} veces.\")"
   ]
  },
  {
   "cell_type": "markdown",
   "metadata": {},
   "source": [
    "4) A la función del punto 3, agregar un parámetro más, que permita elegir si se requiere el menor o el mayor de los mas repetidos."
   ]
  },
  {
   "cell_type": "code",
   "execution_count": 1,
   "metadata": {},
   "outputs": [],
   "source": [
    "# A la funcion del punto 3, agregar un parámetro más, que permita elegir si se requiere el menor o el mayo de los mas repetidos\n",
    "def numero_mas_repetido_con_opcion(lista_numeros, mayor=True):\n",
    "    if not lista_numeros:\n",
    "        return None, 0\n",
    "    contador = Counter(lista_numeros)\n",
    "    max_veces = max(contador.values())\n",
    "    numeros_mas_repetidos = [num for num, veces in contador.items() if veces == max_veces]\n",
    "    numero = max(numeros_mas_repetidos) if mayor else min(numeros_mas_repetidos)\n",
    "    return numero, max_veces"
   ]
  },
  {
   "cell_type": "markdown",
   "metadata": {},
   "source": [
    "5) Crear una función que convierta entre grados Celsius, Farenheit y Kelvin<br>\n",
    "Fórmula 1\t: (°C × 9/5) + 32 = °F<br>\n",
    "Fórmula 2\t: °C + 273.15 = °K<br>\n",
    "Debe recibir 3 parámetros: el valor, la medida de orígen y la medida de destino\n"
   ]
  },
  {
   "cell_type": "code",
   "execution_count": 2,
   "metadata": {},
   "outputs": [],
   "source": [
    "#5) Crear una función que convierta entre grados Celsius, Farenheit y Kelvin<br>\n",
    "# Fórmula 1\t: (°C × 9/5) + 32 = °F<br>\n",
    "# Fórmula 2\t: °C + 273.15 = °K<br>\n",
    "# Debe recibir 3 parámetros: el valor, la medida de orígen y la medida de destino\n",
    "def convertir_temperatura(valor, origen, destino):\n",
    "    # Convertir a Celsius primero\n",
    "    if origen == 'C':\n",
    "        celsius = valor\n",
    "    elif origen == 'F':\n",
    "        celsius = (valor - 32) * 5/9\n",
    "    elif origen == 'K':\n",
    "        celsius = valor - 273.15\n",
    "    else:\n",
    "        raise ValueError(\"Unidad de origen no válida. Use 'C', 'F' o 'K'.\")\n",
    "\n",
    "    # Convertir de Celsius a la unidad destino\n",
    "    if destino == 'C':\n",
    "        return celsius\n",
    "    elif destino == 'F':\n",
    "        return (celsius * 9/5) + 32\n",
    "    elif destino == 'K':\n",
    "        return celsius + 273.15\n",
    "    else:\n",
    "        raise ValueError(\"Unidad de destino no válida. Use 'C', 'F' o 'K'.\")"
   ]
  },
  {
   "cell_type": "markdown",
   "metadata": {},
   "source": [
    "6) Iterando una lista con los tres valores posibles de temperatura que recibe la función del punto 5, hacer un print para cada combinación de los mismos:"
   ]
  },
  {
   "cell_type": "code",
   "execution_count": 3,
   "metadata": {},
   "outputs": [
    {
     "name": "stdout",
     "output_type": "stream",
     "text": [
      "0°C son 32.00°F\n",
      "100°C son 212.00°F\n",
      "37°C son 98.60°F\n",
      "0°C son 273.15°K\n",
      "100°C son 373.15°K\n",
      "37°C son 310.15°K\n",
      "0°F son -17.78°C\n",
      "100°F son 37.78°C\n",
      "37°F son 2.78°C\n",
      "0°F son 255.37°K\n",
      "100°F son 310.93°K\n",
      "37°F son 275.93°K\n",
      "0°K son -273.15°C\n",
      "100°K son -173.15°C\n",
      "37°K son -236.15°C\n",
      "0°K son -459.67°F\n",
      "100°K son -279.67°F\n",
      "37°K son -393.07°F\n"
     ]
    }
   ],
   "source": [
    "# 6) Iterando una lista con los tres valores posibles de temperatura que recibe la función del punto 5, hacer un print para cada combinación de los mismos:\n",
    "valores = [0, 100, 37]  # Ejemplos de valores\n",
    "unidades = ['C', 'F', 'K']\n",
    "for origen in unidades:\n",
    "    for destino in unidades:\n",
    "        if origen != destino:\n",
    "            for valor in valores:\n",
    "                convertido = convertir_temperatura(valor, origen, destino)\n",
    "                print(f\"{valor}°{origen} son {convertido:.2f}°{destino}\")"
   ]
  },
  {
   "cell_type": "markdown",
   "metadata": {},
   "source": [
    "7) Armar una función que devuelva el factorial de un número. Tener en cuenta que el usuario puede equivocarse y enviar de parámetro un número no entero o negativo"
   ]
  },
  {
   "cell_type": "code",
   "execution_count": 5,
   "metadata": {},
   "outputs": [],
   "source": [
    "# 7) Armar una función que devuelva el factorial de un número. Tener en cuenta que el usuario puede equivocarse y enviar de parámetro un número no entero o negativo\n",
    "def factorial(n):\n",
    "    if not isinstance(n, int) or n < 0:\n",
    "        raise ValueError(\"El número debe ser un entero no negativo.\")\n",
    "    if n == 0 or n == 1:\n",
    "        return 1\n",
    "    resultado = 1\n",
    "    for i in range(2, n + 1):\n",
    "        resultado *= i\n",
    "    return resultado"
   ]
  }
 ],
 "metadata": {
  "kernelspec": {
   "display_name": "Python 3",
   "language": "python",
   "name": "python3"
  },
  "language_info": {
   "codemirror_mode": {
    "name": "ipython",
    "version": 3
   },
   "file_extension": ".py",
   "mimetype": "text/x-python",
   "name": "python",
   "nbconvert_exporter": "python",
   "pygments_lexer": "ipython3",
   "version": "3.13.7"
  },
  "vscode": {
   "interpreter": {
    "hash": "de8281a228bb66c2c60efdc2ecffdbec8f9385262e02c22a6ff74a2158df972d"
   }
  }
 },
 "nbformat": 4,
 "nbformat_minor": 4
}
