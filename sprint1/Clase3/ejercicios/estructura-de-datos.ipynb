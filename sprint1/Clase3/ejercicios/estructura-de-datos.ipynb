{
 "cells": [
  {
   "cell_type": "markdown",
   "metadata": {},
   "source": [
    "## Estructuras de Datos"
   ]
  },
  {
   "cell_type": "markdown",
   "metadata": {},
   "source": [
    "1) Crear una lista que contenga nombres de ciudades del mundo que contenga más de 5 elementos e imprimir por pantalla"
   ]
  },
  {
   "cell_type": "code",
   "execution_count": 2,
   "metadata": {},
   "outputs": [
    {
     "name": "stdout",
     "output_type": "stream",
     "text": [
      "['Buenos Aires', 'Tokio', 'Nueva York', 'París', 'Londres', 'Sídney', 'Roma']\n"
     ]
    }
   ],
   "source": [
    "ciudades = ['Buenos Aires', 'Tokio', 'Nueva York', 'París', 'Londres', 'Sídney', 'Roma']\n",
    "print(ciudades)"
   ]
  },
  {
   "cell_type": "markdown",
   "metadata": {},
   "source": [
    "2) Imprimir por pantalla el segundo elemento de la lista"
   ]
  },
  {
   "cell_type": "code",
   "execution_count": 3,
   "metadata": {},
   "outputs": [
    {
     "name": "stdout",
     "output_type": "stream",
     "text": [
      "Tokio\n"
     ]
    }
   ],
   "source": [
    "print(ciudades[1])  # Salida: Tokio"
   ]
  },
  {
   "cell_type": "markdown",
   "metadata": {},
   "source": [
    "3) Imprimir por pantalla del segundo al cuarto elemento"
   ]
  },
  {
   "cell_type": "code",
   "execution_count": 4,
   "metadata": {},
   "outputs": [
    {
     "name": "stdout",
     "output_type": "stream",
     "text": [
      "['Tokio', 'Nueva York', 'París']\n"
     ]
    }
   ],
   "source": [
    "print(ciudades[1:4])"
   ]
  },
  {
   "cell_type": "markdown",
   "metadata": {},
   "source": [
    "4) Visualizar el tipo de dato de la lista"
   ]
  },
  {
   "cell_type": "code",
   "execution_count": 5,
   "metadata": {},
   "outputs": [
    {
     "name": "stdout",
     "output_type": "stream",
     "text": [
      "<class 'list'>\n"
     ]
    }
   ],
   "source": [
    "print(type(ciudades))"
   ]
  },
  {
   "cell_type": "markdown",
   "metadata": {},
   "source": [
    "5) Visualizar todos los elementos de la lista a partir del tercero de manera genérica, es decir, sin explicitar la posición del último elemento"
   ]
  },
  {
   "cell_type": "code",
   "execution_count": 6,
   "metadata": {},
   "outputs": [
    {
     "name": "stdout",
     "output_type": "stream",
     "text": [
      "['Nueva York', 'París', 'Londres', 'Sídney', 'Roma']\n"
     ]
    }
   ],
   "source": [
    "print(ciudades[2:])"
   ]
  },
  {
   "cell_type": "markdown",
   "metadata": {},
   "source": [
    "6) Visualizar los primeros 4 elementos de la lista"
   ]
  },
  {
   "cell_type": "code",
   "execution_count": 7,
   "metadata": {},
   "outputs": [
    {
     "name": "stdout",
     "output_type": "stream",
     "text": [
      "['Buenos Aires', 'Tokio', 'Nueva York', 'París']\n"
     ]
    }
   ],
   "source": [
    "print(ciudades[:4])"
   ]
  },
  {
   "cell_type": "markdown",
   "metadata": {},
   "source": [
    "7) Agregar una ciudad más a la lista que ya exista y otra que no ¿Arroja algún tipo de error?"
   ]
  },
  {
   "cell_type": "code",
   "execution_count": 8,
   "metadata": {},
   "outputs": [
    {
     "name": "stdout",
     "output_type": "stream",
     "text": [
      "['Buenos Aires', 'Tokio', 'Nueva York', 'París', 'Londres', 'Sídney', 'Roma', 'Londres', 'Barcelona']\n"
     ]
    }
   ],
   "source": [
    "# Agregar una ciudad que ya existe\n",
    "ciudades.append('Londres')\n",
    "\n",
    "# Agregar una ciudad que no existe\n",
    "ciudades.append('Barcelona')\n",
    "\n",
    "print(ciudades)\n",
    "# No arroja ningún error, simplemente agrega ambos elementos al final de la lista."
   ]
  },
  {
   "cell_type": "code",
   "execution_count": 9,
   "metadata": {},
   "outputs": [
    {
     "name": "stdout",
     "output_type": "stream",
     "text": [
      "None\n",
      "['Buenos Aires', 'Tokio', 'Nueva York', 'París', 'Londres', 'Sídney', 'Roma', 'Londres', 'Barcelona', 'Londres']\n"
     ]
    }
   ],
   "source": [
    "print(ciudades.append('Londres'))\n",
    "\n",
    "print(ciudades)"
   ]
  },
  {
   "cell_type": "markdown",
   "metadata": {},
   "source": [
    "8) Agregar otra ciudad, pero en la cuarta posición"
   ]
  },
  {
   "cell_type": "code",
   "execution_count": 11,
   "metadata": {},
   "outputs": [
    {
     "name": "stdout",
     "output_type": "stream",
     "text": [
      "['Buenos Aires', 'Tokio', 'Nueva York', 'Barcelona', 'Barcelona', 'París', 'Londres', 'Sídney', 'Roma', 'Londres', 'Barcelona', 'Londres']\n"
     ]
    }
   ],
   "source": [
    "# Agrega otra ciudad pero en la cuarta posición\n",
    "\n",
    "ciudades.insert(3, 'Barcelona')\n",
    "print(ciudades)"
   ]
  },
  {
   "cell_type": "markdown",
   "metadata": {},
   "source": [
    "9) Concatenar otra lista a la ya creada"
   ]
  },
  {
   "cell_type": "code",
   "execution_count": 12,
   "metadata": {},
   "outputs": [
    {
     "name": "stdout",
     "output_type": "stream",
     "text": [
      "['Buenos Aires', 'Tokio', 'Nueva York', 'Barcelona', 'Barcelona', 'París', 'Londres', 'Sídney', 'Roma', 'Londres', 'Barcelona', 'Londres', 'Madrid', 'Berlin', 'Praga']\n"
     ]
    }
   ],
   "source": [
    "# Concatenar otra lista a la ya creada\n",
    "ciudades.extend(['Madrid', 'Berlin', 'Praga'])\n",
    "print(ciudades)"
   ]
  },
  {
   "cell_type": "markdown",
   "metadata": {},
   "source": [
    "10) Encontrar el índice de la ciudad que en el punto 7 agregamos duplicada. ¿Se nota alguna particularidad?"
   ]
  },
  {
   "cell_type": "code",
   "execution_count": 14,
   "metadata": {},
   "outputs": [
    {
     "name": "stdout",
     "output_type": "stream",
     "text": [
      "6\n"
     ]
    }
   ],
   "source": [
    "# Encontrar el índice de la ciudad que en punto 7 agregamos duplicada. ¿Se nota alguna particularidad?\n",
    "print(ciudades.index('Londres'))\n"
   ]
  },
  {
   "cell_type": "markdown",
   "metadata": {},
   "source": [
    "11) ¿Qué pasa si se busca un elemento que no existe?"
   ]
  },
  {
   "cell_type": "code",
   "execution_count": null,
   "metadata": {},
   "outputs": [],
   "source": [
    "# Que pasa si se busca un elemento que no existe?\n",
    "# print(ciudades.index('Miami'))  # Arroja un ValueError"
   ]
  },
  {
   "cell_type": "markdown",
   "metadata": {},
   "source": [
    "12) Eliminar un elemento de la lista"
   ]
  },
  {
   "cell_type": "code",
   "execution_count": 16,
   "metadata": {},
   "outputs": [
    {
     "name": "stdout",
     "output_type": "stream",
     "text": [
      "['Buenos Aires', 'Tokio', 'Nueva York', 'Barcelona', 'Barcelona', 'París', 'Londres', 'Sídney', 'Londres', 'Barcelona', 'Londres', 'Madrid', 'Berlin', 'Praga']\n"
     ]
    }
   ],
   "source": [
    "# Elimina un elemento de la lista\n",
    "ciudades.remove('Roma')\n",
    "print(ciudades)\n"
   ]
  },
  {
   "cell_type": "markdown",
   "metadata": {},
   "source": [
    "13) ¿Qué pasa si el elemento a eliminar no existe?"
   ]
  },
  {
   "cell_type": "code",
   "execution_count": null,
   "metadata": {},
   "outputs": [],
   "source": [
    "# Qué pasa si el elemento a eliminar no existe?\n",
    "# ciudades.remove('Miami')  # Arroja un ValueError"
   ]
  },
  {
   "cell_type": "markdown",
   "metadata": {},
   "source": [
    "14) Extraer el úlimo elemento de la lista, guardarlo en una variable e imprimirlo"
   ]
  },
  {
   "cell_type": "code",
   "execution_count": 17,
   "metadata": {},
   "outputs": [
    {
     "name": "stdout",
     "output_type": "stream",
     "text": [
      "Praga\n"
     ]
    }
   ],
   "source": [
    "# Extraer el ultimo elemento de la lista, guardarlo en una variable e imprimirlo\n",
    "ultima_ciudad = ciudades.pop()\n",
    "print(ultima_ciudad)"
   ]
  },
  {
   "cell_type": "markdown",
   "metadata": {},
   "source": [
    "15) Mostrar la lista multiplicada por 4"
   ]
  },
  {
   "cell_type": "code",
   "execution_count": 18,
   "metadata": {},
   "outputs": [
    {
     "name": "stdout",
     "output_type": "stream",
     "text": [
      "['Buenos Aires', 'Tokio', 'Nueva York', 'Barcelona', 'Barcelona', 'París', 'Londres', 'Sídney', 'Londres', 'Barcelona', 'Londres', 'Madrid', 'Berlin', 'Buenos Aires', 'Tokio', 'Nueva York', 'Barcelona', 'Barcelona', 'París', 'Londres', 'Sídney', 'Londres', 'Barcelona', 'Londres', 'Madrid', 'Berlin', 'Buenos Aires', 'Tokio', 'Nueva York', 'Barcelona', 'Barcelona', 'París', 'Londres', 'Sídney', 'Londres', 'Barcelona', 'Londres', 'Madrid', 'Berlin', 'Buenos Aires', 'Tokio', 'Nueva York', 'Barcelona', 'Barcelona', 'París', 'Londres', 'Sídney', 'Londres', 'Barcelona', 'Londres', 'Madrid', 'Berlin']\n"
     ]
    }
   ],
   "source": [
    "# Mostrar la lista multiplicada por cuatro.\n",
    "print(ciudades * 4)\n"
   ]
  },
  {
   "cell_type": "markdown",
   "metadata": {},
   "source": [
    "16) Crear una tupla que contenga los números enteros del 1 al 20"
   ]
  },
  {
   "cell_type": "code",
   "execution_count": 19,
   "metadata": {},
   "outputs": [
    {
     "name": "stdout",
     "output_type": "stream",
     "text": [
      "(1, 2, 3, 4, 5, 6, 7, 8, 9, 10, 11, 12, 13, 14, 15, 16, 17, 18, 19, 20)\n"
     ]
    }
   ],
   "source": [
    "# Crea una tupla que contenga los números enteros del 1 al 20.\n",
    "tupla_numeros = tuple(range(1, 21))\n",
    "print(tupla_numeros)"
   ]
  },
  {
   "cell_type": "markdown",
   "metadata": {},
   "source": [
    "17) Imprimir desde el índice 10 al 15 de la tupla"
   ]
  },
  {
   "cell_type": "code",
   "execution_count": null,
   "metadata": {},
   "outputs": [],
   "source": [
    "# Imprimir desde el indice 10 al 15 de la tupla\n",
    "print(tupla_numeros[10:16])"
   ]
  },
  {
   "cell_type": "markdown",
   "metadata": {},
   "source": [
    "18) Evaluar si los números 20 y 30 están dentro de la tupla"
   ]
  },
  {
   "cell_type": "code",
   "execution_count": 20,
   "metadata": {},
   "outputs": [
    {
     "name": "stdout",
     "output_type": "stream",
     "text": [
      "True\n"
     ]
    }
   ],
   "source": [
    "# Evaluar si los números 20 y 30 están dentro de la tupla\n",
    "print(20 in tupla_numeros)  # True"
   ]
  },
  {
   "cell_type": "markdown",
   "metadata": {},
   "source": [
    "19) Con la lista creada en el punto 1, validar la existencia del elemento 'París' y si no existe, agregarlo. Utilizar una variable e informar lo sucedido."
   ]
  },
  {
   "cell_type": "code",
   "execution_count": 21,
   "metadata": {},
   "outputs": [
    {
     "name": "stdout",
     "output_type": "stream",
     "text": [
      "'París' ya existe en la lista.\n",
      "['Buenos Aires', 'Tokio', 'Nueva York', 'Barcelona', 'Barcelona', 'París', 'Londres', 'Sídney', 'Londres', 'Barcelona', 'Londres', 'Madrid', 'Berlin']\n"
     ]
    }
   ],
   "source": [
    "# Con la lista creada en el punto 1, validar la existencia del elemento 'París' y si no existe, agregarlo. Utilizar una variable e informar lo sucedido.\n",
    "if 'París' not in ciudades:\n",
    "    ciudades.append('París')\n",
    "    mensaje = \"'París' ha sido agregado a la lista.\"\n",
    "else:\n",
    "    mensaje = \"'París' ya existe en la lista.\"\n",
    "print(mensaje)\n",
    "print(ciudades)"
   ]
  },
  {
   "cell_type": "markdown",
   "metadata": {},
   "source": [
    "20) Mostrar la cantidad de veces que se encuentra un elemento específico dentro de la tupla y de la lista"
   ]
  },
  {
   "cell_type": "code",
   "execution_count": null,
   "metadata": {},
   "outputs": [],
   "source": [
    "# Mostrar la cantidad de veces que se encuentra un elemento específico dentro de la tupla y de la lista.\n",
    "print(ciudades.count('Londres'))  # Lista\n",
    "print(tupla_numeros.count(10))     # Tupla"
   ]
  },
  {
   "cell_type": "markdown",
   "metadata": {},
   "source": [
    "21) Convertir la tupla en una lista"
   ]
  },
  {
   "cell_type": "code",
   "execution_count": null,
   "metadata": {},
   "outputs": [],
   "source": [
    "# Convertir la tupla en una lista\n",
    "lista_numeros = list(tupla_numeros)"
   ]
  },
  {
   "cell_type": "markdown",
   "metadata": {},
   "source": [
    "22) Desempaquetar solo los primeros 3 elementos de la tupla en 3 variables"
   ]
  },
  {
   "cell_type": "code",
   "execution_count": 23,
   "metadata": {},
   "outputs": [
    {
     "name": "stdout",
     "output_type": "stream",
     "text": [
      "1 2 3\n"
     ]
    }
   ],
   "source": [
    "# Desempaquetar solo los primeros 3 elementos de la tupla en 3 variables e imprimirlas.\n",
    "a, b, c, *resto = tupla_numeros\n",
    "print(a, b, c)  # Salida: 1 2 3"
   ]
  },
  {
   "cell_type": "markdown",
   "metadata": {},
   "source": [
    "23) Crear un diccionario utilizando la lista crada en el punto 1, asignandole la clave \"ciudad\". Agregar tambien otras claves, como puede ser \"Pais\" y \"Continente\"."
   ]
  },
  {
   "cell_type": "code",
   "execution_count": 26,
   "metadata": {},
   "outputs": [],
   "source": [
    "# Crear un diccionario utilizando la lista crada en el punto 1, asignandole la clave \"ciudad\". Agregar tambien otras claves, como puede ser \"Pais\" y \"Continente\".\n",
    "diccionario = {\n",
    "    \"ciudad\": ciudades,\n",
    "    \"pais\": [\"Argentina\", \"Japón\", \"Estados Unidos\", \"Francia\", \"Reino Unido\", \"Australia\", \"Italia\"],\n",
    "    \"continente\": [\"América\", \"Asia\", \"América\", \"Europa\", \"Europa\", \"Oceanía\", \"Europa\"]\n",
    "}"
   ]
  },
  {
   "cell_type": "markdown",
   "metadata": {},
   "source": [
    "24) Imprimir las claves del diccionario"
   ]
  },
  {
   "cell_type": "code",
   "execution_count": 27,
   "metadata": {},
   "outputs": [
    {
     "name": "stdout",
     "output_type": "stream",
     "text": [
      "dict_keys(['ciudad', 'pais', 'continente'])\n"
     ]
    }
   ],
   "source": [
    "# Imprimir las claves del diccionario\n",
    "print(diccionario.keys())"
   ]
  },
  {
   "cell_type": "markdown",
   "metadata": {},
   "source": [
    "25) Imprimir las ciudades a través de su clave"
   ]
  },
  {
   "cell_type": "code",
   "execution_count": 28,
   "metadata": {},
   "outputs": [
    {
     "name": "stdout",
     "output_type": "stream",
     "text": [
      "['Buenos Aires', 'Tokio', 'Nueva York', 'Barcelona', 'Barcelona', 'París', 'Londres', 'Sídney', 'Londres', 'Barcelona', 'Londres', 'Madrid', 'Berlin']\n"
     ]
    }
   ],
   "source": [
    "# Imprimir las ciudades a través de su clave\n",
    "print(diccionario[\"ciudad\"])"
   ]
  }
 ],
 "metadata": {
  "kernelspec": {
   "display_name": "Python 3",
   "language": "python",
   "name": "python3"
  },
  "language_info": {
   "codemirror_mode": {
    "name": "ipython",
    "version": 3
   },
   "file_extension": ".py",
   "mimetype": "text/x-python",
   "name": "python",
   "nbconvert_exporter": "python",
   "pygments_lexer": "ipython3",
   "version": "3.13.7"
  },
  "vscode": {
   "interpreter": {
    "hash": "de8281a228bb66c2c60efdc2ecffdbec8f9385262e02c22a6ff74a2158df972d"
   }
  }
 },
 "nbformat": 4,
 "nbformat_minor": 4
}
