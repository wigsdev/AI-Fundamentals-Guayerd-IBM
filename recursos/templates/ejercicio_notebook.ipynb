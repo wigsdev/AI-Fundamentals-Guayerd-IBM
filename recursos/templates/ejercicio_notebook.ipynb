{
 "cells": [
  {
   "cell_type": "markdown",
   "id": "4989acc5",
   "metadata": {},
   "source": [
    "# 📝 [Título del Ejercicio]\n",
    "\n",
    "## Información del Estudiante\n",
    "- **Nombre:** [Tu nombre]\n",
    "- **Sprint:** [Número de Sprint]\n",
    "- **Clase:** [Número de Clase]\n",
    "\n",
    "## Descripción del Ejercicio\n",
    "[Aquí va la descripción del ejercicio proporcionada por el instructor]\n",
    "\n",
    "### Objetivos\n",
    "- [Objetivo 1]\n",
    "- [Objetivo 2]\n",
    "- [Objetivo 3]\n",
    "\n",
    "### Requisitos\n",
    "- [Requisito 1]\n",
    "- [Requisito 2]\n",
    "- [Requisito 3]"
   ]
  },
  {
   "cell_type": "markdown",
   "id": "eef209bd",
   "metadata": {},
   "source": [
    "## Importación de Bibliotecas\n",
    "A continuación, importa las bibliotecas necesarias para resolver el ejercicio."
   ]
  },
  {
   "cell_type": "code",
   "execution_count": null,
   "id": "76bdc2cb",
   "metadata": {},
   "outputs": [],
   "source": [
    "# Importa aquí las bibliotecas necesarias\n",
    "import numpy as np\n",
    "import pandas as pd\n",
    "# Agrega más importaciones según sea necesario"
   ]
  },
  {
   "cell_type": "markdown",
   "id": "8055847f",
   "metadata": {},
   "source": [
    "## Desarrollo de la Solución\n",
    "\n",
    "### Paso 1: [Descripción del primer paso]\n",
    "[Explica aquí qué vas a hacer en este paso]"
   ]
  },
  {
   "cell_type": "code",
   "execution_count": null,
   "id": "b360641b",
   "metadata": {},
   "outputs": [],
   "source": [
    "# Implementa aquí el primer paso de tu solución\n",
    "def paso1():\n",
    "    # Tu código aquí\n",
    "    pass\n",
    "\n",
    "# Ejemplo de uso\n",
    "paso1()"
   ]
  },
  {
   "cell_type": "markdown",
   "id": "54a79257",
   "metadata": {},
   "source": [
    "### Paso 2: [Descripción del segundo paso]\n",
    "[Explica aquí qué vas a hacer en este paso]"
   ]
  },
  {
   "cell_type": "code",
   "execution_count": null,
   "id": "83d9c858",
   "metadata": {},
   "outputs": [],
   "source": [
    "# Implementa aquí el segundo paso de tu solución\n",
    "def paso2():\n",
    "    # Tu código aquí\n",
    "    pass\n",
    "\n",
    "# Ejemplo de uso\n",
    "paso2()"
   ]
  },
  {
   "cell_type": "markdown",
   "id": "cd067631",
   "metadata": {},
   "source": [
    "## Pruebas y Validación\n",
    "Aquí debes incluir pruebas para verificar que tu solución funciona correctamente."
   ]
  },
  {
   "cell_type": "code",
   "execution_count": null,
   "id": "ca615079",
   "metadata": {},
   "outputs": [],
   "source": [
    "# Implementa aquí tus pruebas\n",
    "def test_solucion():\n",
    "    # Prueba 1\n",
    "    assert True, \"La prueba 1 falló\"\n",
    "    \n",
    "    # Prueba 2\n",
    "    assert True, \"La prueba 2 falló\"\n",
    "    \n",
    "    print(\"¡Todas las pruebas pasaron!\")"
   ]
  },
  {
   "cell_type": "markdown",
   "id": "a73aa59a",
   "metadata": {},
   "source": [
    "## Conclusiones\n",
    "\n",
    "[Describe aquí tus conclusiones sobre el ejercicio, qué aprendiste y cualquier desafío que hayas encontrado]\n",
    "\n",
    "### Recursos Utilizados\n",
    "- [Lista de recursos, documentación o referencias que utilizaste]\n",
    "\n",
    "### Reflexión Personal\n",
    "- [Comparte tu experiencia personal con el ejercicio]\n",
    "- [¿Qué fue lo más desafiante?]\n",
    "- [¿Qué aprendiste?]"
   ]
  }
 ],
 "metadata": {
  "language_info": {
   "name": "python"
  }
 },
 "nbformat": 4,
 "nbformat_minor": 5
}
