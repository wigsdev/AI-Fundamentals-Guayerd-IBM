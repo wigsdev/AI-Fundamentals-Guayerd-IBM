{
 "cells": [
  {
   "cell_type": "markdown",
   "id": "836355ba",
   "metadata": {},
   "source": [
    "# Análisis y Recategorización de Productos - Dataset Aurelion\n",
    "\n",
    "Este notebook analiza los productos de Aurelion para identificar y corregir productos mal categorizados.\n",
    "\n",
    "## Objetivos\n",
    "1. Importar librerías y configuración\n",
    "2. Cargar archivo productos.xlsx\n",
    "3. Definir funciones de categorización\n",
    "4. Generar sugerencias y actualizar archivo\n",
    "5. Resumen y revisión de resultados"
   ]
  },
  {
   "cell_type": "markdown",
   "id": "3055c42b",
   "metadata": {},
   "source": [
    "## Paso 1: Importar librerías y configuración\n",
    "\n",
    "Se importan las librerías necesarias para el análisis y se configura la ruta de trabajo."
   ]
  },
  {
   "cell_type": "code",
   "execution_count": 8,
   "id": "177cc36d",
   "metadata": {},
   "outputs": [],
   "source": [
    "# Importar librerías necesarias\n",
    "import pandas as pd\n",
    "import numpy as np\n",
    "import os\n",
    "from pathlib import Path\n",
    "\n",
    "# Configurar ruta de trabajo\n",
    "ruta_aurelion = Path(r'c:\\Users\\WIGUSA\\Documents\\Github\\AI-Fundamentals-Guayerd-IBM\\AurelionProject\\data')"
   ]
  },
  {
   "cell_type": "markdown",
   "id": "05158293",
   "metadata": {},
   "source": [
    "## Paso 2: Cargar archivo productos.xlsx\n",
    "\n",
    "Se carga el archivo de productos para su exploración inicial."
   ]
  },
  {
   "cell_type": "code",
   "execution_count": 9,
   "id": "7a352330",
   "metadata": {},
   "outputs": [
    {
     "data": {
      "text/html": [
       "<div>\n",
       "<style scoped>\n",
       "    .dataframe tbody tr th:only-of-type {\n",
       "        vertical-align: middle;\n",
       "    }\n",
       "\n",
       "    .dataframe tbody tr th {\n",
       "        vertical-align: top;\n",
       "    }\n",
       "\n",
       "    .dataframe thead th {\n",
       "        text-align: right;\n",
       "    }\n",
       "</style>\n",
       "<table border=\"1\" class=\"dataframe\">\n",
       "  <thead>\n",
       "    <tr style=\"text-align: right;\">\n",
       "      <th></th>\n",
       "      <th>id_producto</th>\n",
       "      <th>nombre_producto</th>\n",
       "      <th>categoria</th>\n",
       "      <th>precio_unitario</th>\n",
       "    </tr>\n",
       "  </thead>\n",
       "  <tbody>\n",
       "    <tr>\n",
       "      <th>0</th>\n",
       "      <td>1</td>\n",
       "      <td>Coca Cola 1.5L</td>\n",
       "      <td>Alimentos</td>\n",
       "      <td>2347</td>\n",
       "    </tr>\n",
       "    <tr>\n",
       "      <th>1</th>\n",
       "      <td>2</td>\n",
       "      <td>Pepsi 1.5L</td>\n",
       "      <td>Alimentos</td>\n",
       "      <td>4973</td>\n",
       "    </tr>\n",
       "    <tr>\n",
       "      <th>2</th>\n",
       "      <td>3</td>\n",
       "      <td>Sprite 1.5L</td>\n",
       "      <td>Alimentos</td>\n",
       "      <td>4964</td>\n",
       "    </tr>\n",
       "    <tr>\n",
       "      <th>3</th>\n",
       "      <td>4</td>\n",
       "      <td>Fanta Naranja 1.5L</td>\n",
       "      <td>Alimentos</td>\n",
       "      <td>2033</td>\n",
       "    </tr>\n",
       "    <tr>\n",
       "      <th>4</th>\n",
       "      <td>5</td>\n",
       "      <td>Agua Mineral 500ml</td>\n",
       "      <td>Alimentos</td>\n",
       "      <td>4777</td>\n",
       "    </tr>\n",
       "  </tbody>\n",
       "</table>\n",
       "</div>"
      ],
      "text/plain": [
       "   id_producto     nombre_producto  categoria  precio_unitario\n",
       "0            1      Coca Cola 1.5L  Alimentos             2347\n",
       "1            2          Pepsi 1.5L  Alimentos             4973\n",
       "2            3         Sprite 1.5L  Alimentos             4964\n",
       "3            4  Fanta Naranja 1.5L  Alimentos             2033\n",
       "4            5  Agua Mineral 500ml  Alimentos             4777"
      ]
     },
     "execution_count": 9,
     "metadata": {},
     "output_type": "execute_result"
    }
   ],
   "source": [
    "# Cargar el archivo de productos\n",
    "productos_df = pd.read_excel(ruta_aurelion / 'productos.xlsx')\n",
    "\n",
    "# Mostrar las primeras filas\n",
    "productos_df.head()"
   ]
  },
  {
   "cell_type": "markdown",
   "id": "5697c9c5",
   "metadata": {},
   "source": [
    "## Paso 3: Definir funciones de categorización\n",
    "\n",
    "Se definen los criterios y funciones para categorizar los productos según palabras clave."
   ]
  },
  {
   "cell_type": "code",
   "execution_count": 10,
   "id": "d553de35",
   "metadata": {},
   "outputs": [],
   "source": [
    "# Definir diccionario de palabras clave por categoría\n",
    "keywords_mejorado = {\n",
    "    'Alimentos': {\n",
    "        'bebidas': ['coca', 'pepsi', 'sprite', 'fanta', 'agua', 'jugo', 'gaseosa', 'soda', 'cerveza', 'vino', 'refresco', 'bebida', 'energética', 'energetica', 'bebidas'],\n",
    "        'lacteos': ['leche', 'yogur', 'yoghurt', 'queso', 'crema', 'manteca', 'dulce de leche', 'postrecito'],\n",
    "        'panificados': ['pan', 'galletas', 'galletitas', 'torta', 'bizcocho', 'facturas', 'alfajor', 'tostadas', 'pan rallado'],\n",
    "        'cereales_granos': ['arroz', 'fideos', 'pasta', 'cereal', 'avena', 'harina', 'garbanzos', 'lentejas', 'porotos', 'arvejas', 'maíz', 'maiz'],\n",
    "        'snacks_golosinas': ['papas', 'chips', 'palitos', 'maní', 'nueces', 'mix', 'caramelo', 'chicle', 'chupetín', 'chupetin', 'turrón', 'turron', 'gomitas', 'chocolate', 'dulces', 'golosinas'],\n",
    "        'comidas_preparadas': ['pizza', 'pizzas', 'hamburguesa', 'hamburguesas', 'burger', 'hot dog', 'hotdog', 'empanada', 'empanadas', 'arepa', 'sushi', 'congelada', 'congeladas'],\n",
    "        'conservas_salsas': ['atún', 'sardinas', 'tomate', 'salsa', 'pure', 'mermelada', 'conserva', 'enlatado', 'pickles', 'verdura', 'verduras'],\n",
    "        'condimentos': ['sal', 'pimienta', 'aceite', 'vinagre', 'mayonesa', 'mostaza', 'ketchup', 'condimento', 'especias'],\n",
    "        'infusiones': ['café', 'cafe', 'te', 'té', 'mate', 'yerba', 'saquitos', 'molido', 'cacao', 'manzanilla', 'tilo']\n",
    "    },\n",
    "    'Limpieza': {\n",
    "        'limpieza_hogar': ['detergente', 'jabón', 'jabon', 'lavandina', 'desinfectante', 'limpiador', 'limpia', 'lustra', 'quita', 'cera', 'perfumina', 'suavizante', 'quitamanchas', 'antigrasa', 'limpiavidrios', 'desengrasante'],\n",
    "        'utensilios_limpieza': ['escoba', 'trapo', 'esponja', 'cepillo', 'balde', 'pala', 'paño', 'secador', 'plumero', 'guantes'],\n",
    "        'papel_descartables': ['papel', 'servilletas', 'rollo', 'pañuelos', 'tissue', 'toallas', 'absorbente', 'cocina'],\n",
    "        'bolsas': ['bolsa', 'bolsas', 'residuos', 'consorcio', 'freezer'],\n",
    "        'higiene_personal': ['shampoo', 'acondicionador', 'pasta', 'dental', 'cepillo', 'dientes', 'desodorante', 'toallitas', 'algodón', 'algodon', 'hilo dental', 'enjuague', 'bucal', 'perfume', 'crema dental', 'mascarilla', 'capilar']\n",
    "    }\n",
    "}\n",
    "\n",
    "# Función para detectar categoría\n",
    "def detectar_categoria_mejorada(nombre_producto):\n",
    "    nombre = str(nombre_producto).lower()\n",
    "    palabras_clave_alimentos = []\n",
    "    for subcat in keywords_mejorado['Alimentos'].values():\n",
    "        palabras_clave_alimentos.extend(subcat)\n",
    "    palabras_clave_limpieza = []\n",
    "    for subcat in keywords_mejorado['Limpieza'].values():\n",
    "        palabras_clave_limpieza.extend(subcat)\n",
    "    tiene_alimentos = any(palabra in nombre for palabra in palabras_clave_alimentos)\n",
    "    tiene_limpieza = any(palabra in nombre for palabra in palabras_clave_limpieza)\n",
    "    if tiene_alimentos and tiene_limpieza:\n",
    "        return 'Limpieza'\n",
    "    if tiene_limpieza:\n",
    "        return 'Limpieza'\n",
    "    if tiene_alimentos:\n",
    "        return 'Alimentos'\n",
    "    patrones_limpieza = ['limpia', 'limpio', 'higien', 'desinfect', 'sanitiz', 'antibac', 'anti-bac', 'aseo', 'baño', 'lavado']\n",
    "    if any(patron in nombre for patron in patrones_limpieza):\n",
    "        return 'Limpieza'\n",
    "    return 'Alimentos'"
   ]
  },
  {
   "cell_type": "markdown",
   "id": "7ce74acd",
   "metadata": {},
   "source": [
    "## Paso 4: Generar sugerencias y actualizar archivo\n",
    "\n",
    "Se generan las sugerencias de categorización y se actualiza el archivo principal con las nuevas categorías."
   ]
  },
  {
   "cell_type": "code",
   "execution_count": 12,
   "id": "1f262744",
   "metadata": {},
   "outputs": [
    {
     "name": "stdout",
     "output_type": "stream",
     "text": [
      "================================================================================\n",
      "INICIO DE LA EJECUCIÓN\n",
      "================================================================================\n",
      "\n",
      "Archivo productos.xlsx actualizado con las categorías corregidas.\n",
      "\n",
      "Archivo temporal de sugerencias generado: c:\\Users\\WIGUSA\\Documents\\Github\\AI-Fundamentals-Guayerd-IBM\\AurelionProject\\data\\output\\sugerencias_categorizacion_mejorada_20251030_2111.xlsx\n",
      "\n",
      "Archivo temporal eliminado: c:\\Users\\WIGUSA\\Documents\\Github\\AI-Fundamentals-Guayerd-IBM\\AurelionProject\\data\\output\\sugerencias_categorizacion_mejorada_20251030_2111.xlsx\n",
      "\n",
      "================================================================================\n",
      "FIN DE LA EJECUCIÓN\n",
      "================================================================================\n"
     ]
    }
   ],
   "source": [
    "# Función para generar sugerencias\n",
    "def generar_sugerencias_categorizacion_mejorada():\n",
    "    sugerencias = []\n",
    "    for idx, row in productos_df.iterrows():\n",
    "        categoria_sugerida = detectar_categoria_mejorada(row.get('nombre_producto', ''))\n",
    "        sugerencias.append({\n",
    "            'id_producto': row.get('id_producto'),\n",
    "            'nombre_producto': row.get('nombre_producto'),\n",
    "            'categoria_actual': row.get('categoria'),\n",
    "            'categoria_sugerida': categoria_sugerida,\n",
    "            'precio_unitario': row.get('precio_unitario'),\n",
    "            'requiere_revision': 'Sí' if categoria_sugerida != row.get('categoria') else 'No'\n",
    "        })\n",
    "    return pd.DataFrame(sugerencias)\n",
    "\n",
    "print(\"=\" * 80)\n",
    "print(\"INICIO DE LA EJECUCIÓN\")\n",
    "print(\"=\" * 80)\n",
    "\n",
    "# 1. Generar sugerencias\n",
    "df_sugerencias_mejoradas = generar_sugerencias_categorizacion_mejorada()\n",
    "\n",
    "# 2. Actualizar el archivo productos.xlsx con las categorías corregidas\n",
    "productos_df['categoria'] = productos_df['nombre_producto'].apply(detectar_categoria_mejorada)\n",
    "productos_df.to_excel(ruta_aurelion / 'productos.xlsx', index=False)\n",
    "print(f\"\\nArchivo productos.xlsx actualizado con las categorías corregidas.\")\n",
    "\n",
    "# 3. Exportar sugerencias a archivo temporal\n",
    "output_dir = ruta_aurelion / 'output'\n",
    "output_dir.mkdir(exist_ok=True)\n",
    "fecha_actual = pd.Timestamp.now().strftime('%Y%m%d_%H%M')\n",
    "archivo_sugerencias = output_dir / f'sugerencias_categorizacion_mejorada_{fecha_actual}.xlsx'\n",
    "df_sugerencias_mejoradas.to_excel(archivo_sugerencias, index=False)\n",
    "print(f\"\\nArchivo temporal de sugerencias generado: {archivo_sugerencias}\")\n",
    "\n",
    "# 4. Eliminar archivo temporal\n",
    "try:\n",
    "    os.remove(archivo_sugerencias)\n",
    "    print(f\"\\nArchivo temporal eliminado: {archivo_sugerencias}\")\n",
    "except Exception as e:\n",
    "    print(f\"No se pudo eliminar el archivo temporal: {e}\")\n",
    "\n",
    "print(\"\\n\" + \"=\" * 80)\n",
    "print(\"FIN DE LA EJECUCIÓN\")\n",
    "print(\"=\" * 80)"
   ]
  },
  {
   "cell_type": "markdown",
   "id": "7c592956",
   "metadata": {},
   "source": [
    "## Paso 5: Resumen y revisión de resultados\n",
    "\n",
    "Se muestra un resumen de las sugerencias generadas y los productos que requieren revisión."
   ]
  },
  {
   "cell_type": "code",
   "execution_count": 13,
   "id": "c4b143c4",
   "metadata": {},
   "outputs": [
    {
     "name": "stdout",
     "output_type": "stream",
     "text": [
      "\n",
      "Resumen de nuevas sugerencias:\n",
      "--------------------------------------------------\n",
      "Total de productos: 100\n",
      "Productos que requieren revisión: 0\n",
      "\n",
      "Desglose de sugerencias por categoría sugerida:\n",
      "--------------------------------------------------\n",
      "categoria_sugerida\n",
      "Alimentos    83\n",
      "Limpieza     17\n",
      "Name: count, dtype: int64\n"
     ]
    }
   ],
   "source": [
    "# Mostrar resumen de cambios\n",
    "print(\"\\nResumen de nuevas sugerencias:\")\n",
    "print(\"-\" * 50)\n",
    "print(f\"Total de productos: {len(df_sugerencias_mejoradas)}\")\n",
    "print(f\"Productos que requieren revisión: {len(df_sugerencias_mejoradas[df_sugerencias_mejoradas['requiere_revision'] == 'Sí'])}\")\n",
    "\n",
    "print(\"\\nDesglose de sugerencias por categoría sugerida:\")\n",
    "print(\"-\" * 50)\n",
    "print(df_sugerencias_mejoradas['categoria_sugerida'].value_counts())\n",
    "\n",
    "# Mostrar productos que requieren cambio de categoría\n",
    "productos_cambio = df_sugerencias_mejoradas[df_sugerencias_mejoradas['requiere_revision'] == 'Sí']\n",
    "if len(productos_cambio) > 0:\n",
    "    print(\"\\nProductos que requieren cambio de categoría (muestra):\")\n",
    "    print(\"-\" * 50)\n",
    "    print(productos_cambio[['id_producto', 'nombre_producto', 'categoria_actual', 'categoria_sugerida']].head(20))"
   ]
  }
 ],
 "metadata": {
  "kernelspec": {
   "display_name": "Python 3",
   "language": "python",
   "name": "python3"
  },
  "language_info": {
   "codemirror_mode": {
    "name": "ipython",
    "version": 3
   },
   "file_extension": ".py",
   "mimetype": "text/x-python",
   "name": "python",
   "nbconvert_exporter": "python",
   "pygments_lexer": "ipython3",
   "version": "3.13.7"
  }
 },
 "nbformat": 4,
 "nbformat_minor": 5
}
