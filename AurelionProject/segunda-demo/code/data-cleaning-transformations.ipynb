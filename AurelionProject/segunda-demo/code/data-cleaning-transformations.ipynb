{
 "cells": [
  {
   "cell_type": "markdown",
   "metadata": {},
   "source": [
    "# Limpieza de Datos - Tienda Aurelion\n",
    "\n",
    "Este notebook realiza el proceso de limpieza y preparación de los datos de la tienda Aurelion. El objetivo es identificar y corregir errores, inconsistencias y valores faltantes en los datasets para asegurar que la información sea confiable para el análisis."
   ]
  },
  {
   "cell_type": "markdown",
   "metadata": {},
   "source": [
    "## 1. Importación de Librerías"
   ]
  },
  {
   "cell_type": "code",
   "execution_count": 1,
   "metadata": {},
   "outputs": [],
   "source": [
    "import pandas as pd"
   ]
  },
  {
   "cell_type": "markdown",
   "metadata": {},
   "source": [
    "## 2. Carga de Datos\n",
    "\n",
    "Cargamos los cuatro archivos de Excel que contienen los datos de la tienda:"
   ]
  },
  {
   "cell_type": "code",
   "execution_count": 2,
   "metadata": {},
   "outputs": [
    {
     "name": "stdout",
     "output_type": "stream",
     "text": [
      "Archivos cargados exitosamente.\n"
     ]
    }
   ],
   "source": [
    "try:\n",
    "    clientes_df = pd.read_excel(\"../../data/clientes.xlsx\")\n",
    "    detalle_ventas_df = pd.read_excel(\"../../data/detalle_ventas.xlsx\")\n",
    "    productos_df = pd.read_excel(\"../../data/productos.xlsx\")\n",
    "    ventas_df = pd.read_excel(\"../../data/ventas.xlsx\")\n",
    "    print(\"Archivos cargados exitosamente.\")\n",
    "except FileNotFoundError as e:\n",
    "    print(f\"Error al cargar los archivos: {e}\")"
   ]
  },
  {
   "cell_type": "code",
   "execution_count": null,
   "metadata": {},
   "outputs": [],
   "source": []
  },
  {
   "cell_type": "markdown",
   "metadata": {},
   "source": [
    "## 3. Inspección Inicial de los Datos\n",
    "\n",
    "Realizamos una primera revisión de cada DataFrame para entender su estructura, tipos de datos y la presencia de valores nulos."
   ]
  },
  {
   "cell_type": "markdown",
   "metadata": {},
   "source": [
    "### Clientes"
   ]
  },
  {
   "cell_type": "code",
   "execution_count": 3,
   "metadata": {},
   "outputs": [
    {
     "name": "stdout",
     "output_type": "stream",
     "text": [
      "Información del DataFrame de Clientes:\n",
      "<class 'pandas.core.frame.DataFrame'>\n",
      "RangeIndex: 100 entries, 0 to 99\n",
      "Data columns (total 5 columns):\n",
      " #   Column          Non-Null Count  Dtype         \n",
      "---  ------          --------------  -----         \n",
      " 0   id_cliente      100 non-null    int64         \n",
      " 1   nombre_cliente  100 non-null    object        \n",
      " 2   email           100 non-null    object        \n",
      " 3   ciudad          100 non-null    object        \n",
      " 4   fecha_alta      100 non-null    datetime64[ns]\n",
      "dtypes: datetime64[ns](1), int64(1), object(3)\n",
      "memory usage: 4.0+ KB\n",
      "Valores nulos en Clientes:\n",
      "id_cliente        0\n",
      "nombre_cliente    0\n",
      "email             0\n",
      "ciudad            0\n",
      "fecha_alta        0\n",
      "dtype: int64\n",
      "Primeras filas de Clientes:\n"
     ]
    },
    {
     "data": {
      "text/html": [
       "<div>\n",
       "<style scoped>\n",
       "    .dataframe tbody tr th:only-of-type {\n",
       "        vertical-align: middle;\n",
       "    }\n",
       "\n",
       "    .dataframe tbody tr th {\n",
       "        vertical-align: top;\n",
       "    }\n",
       "\n",
       "    .dataframe thead th {\n",
       "        text-align: right;\n",
       "    }\n",
       "</style>\n",
       "<table border=\"1\" class=\"dataframe\">\n",
       "  <thead>\n",
       "    <tr style=\"text-align: right;\">\n",
       "      <th></th>\n",
       "      <th>id_cliente</th>\n",
       "      <th>nombre_cliente</th>\n",
       "      <th>email</th>\n",
       "      <th>ciudad</th>\n",
       "      <th>fecha_alta</th>\n",
       "    </tr>\n",
       "  </thead>\n",
       "  <tbody>\n",
       "    <tr>\n",
       "      <th>0</th>\n",
       "      <td>1</td>\n",
       "      <td>Mariana Lopez</td>\n",
       "      <td>mariana.lopez@mail.com</td>\n",
       "      <td>Carlos Paz</td>\n",
       "      <td>2023-01-01</td>\n",
       "    </tr>\n",
       "    <tr>\n",
       "      <th>1</th>\n",
       "      <td>2</td>\n",
       "      <td>Nicolas Rojas</td>\n",
       "      <td>nicolas.rojas@mail.com</td>\n",
       "      <td>Carlos Paz</td>\n",
       "      <td>2023-01-02</td>\n",
       "    </tr>\n",
       "    <tr>\n",
       "      <th>2</th>\n",
       "      <td>3</td>\n",
       "      <td>Hernan Martinez</td>\n",
       "      <td>hernan.martinez@mail.com</td>\n",
       "      <td>Rio Cuarto</td>\n",
       "      <td>2023-01-03</td>\n",
       "    </tr>\n",
       "    <tr>\n",
       "      <th>3</th>\n",
       "      <td>4</td>\n",
       "      <td>Uma Martinez</td>\n",
       "      <td>uma.martinez@mail.com</td>\n",
       "      <td>Carlos Paz</td>\n",
       "      <td>2023-01-04</td>\n",
       "    </tr>\n",
       "    <tr>\n",
       "      <th>4</th>\n",
       "      <td>5</td>\n",
       "      <td>Agustina Flores</td>\n",
       "      <td>agustina.flores@mail.com</td>\n",
       "      <td>Cordoba</td>\n",
       "      <td>2023-01-05</td>\n",
       "    </tr>\n",
       "  </tbody>\n",
       "</table>\n",
       "</div>"
      ],
      "text/plain": [
       "   id_cliente   nombre_cliente                     email      ciudad  \\\n",
       "0           1    Mariana Lopez    mariana.lopez@mail.com  Carlos Paz   \n",
       "1           2    Nicolas Rojas    nicolas.rojas@mail.com  Carlos Paz   \n",
       "2           3  Hernan Martinez  hernan.martinez@mail.com  Rio Cuarto   \n",
       "3           4     Uma Martinez     uma.martinez@mail.com  Carlos Paz   \n",
       "4           5  Agustina Flores  agustina.flores@mail.com     Cordoba   \n",
       "\n",
       "  fecha_alta  \n",
       "0 2023-01-01  \n",
       "1 2023-01-02  \n",
       "2 2023-01-03  \n",
       "3 2023-01-04  \n",
       "4 2023-01-05  "
      ]
     },
     "execution_count": 3,
     "metadata": {},
     "output_type": "execute_result"
    }
   ],
   "source": [
    "print(\"Información del DataFrame de Clientes:\")\n",
    "clientes_df.info()\n",
    "print(\"Valores nulos en Clientes:\")\n",
    "print(clientes_df.isnull().sum())\n",
    "print(\"Primeras filas de Clientes:\")\n",
    "clientes_df.head()"
   ]
  },
  {
   "cell_type": "markdown",
   "metadata": {},
   "source": [
    "### Detalle de Ventas"
   ]
  },
  {
   "cell_type": "code",
   "execution_count": 4,
   "metadata": {},
   "outputs": [
    {
     "name": "stdout",
     "output_type": "stream",
     "text": [
      "Información del DataFrame de Detalle de Ventas:\n",
      "<class 'pandas.core.frame.DataFrame'>\n",
      "RangeIndex: 343 entries, 0 to 342\n",
      "Data columns (total 6 columns):\n",
      " #   Column           Non-Null Count  Dtype \n",
      "---  ------           --------------  ----- \n",
      " 0   id_venta         343 non-null    int64 \n",
      " 1   id_producto      343 non-null    int64 \n",
      " 2   nombre_producto  343 non-null    object\n",
      " 3   cantidad         343 non-null    int64 \n",
      " 4   precio_unitario  343 non-null    int64 \n",
      " 5   importe          343 non-null    int64 \n",
      "dtypes: int64(5), object(1)\n",
      "memory usage: 16.2+ KB\n",
      "Valores nulos en Detalle de Ventas:\n",
      "id_venta           0\n",
      "id_producto        0\n",
      "nombre_producto    0\n",
      "cantidad           0\n",
      "precio_unitario    0\n",
      "importe            0\n",
      "dtype: int64\n",
      "Primeras filas de Detalle de Ventas:\n"
     ]
    },
    {
     "data": {
      "text/html": [
       "<div>\n",
       "<style scoped>\n",
       "    .dataframe tbody tr th:only-of-type {\n",
       "        vertical-align: middle;\n",
       "    }\n",
       "\n",
       "    .dataframe tbody tr th {\n",
       "        vertical-align: top;\n",
       "    }\n",
       "\n",
       "    .dataframe thead th {\n",
       "        text-align: right;\n",
       "    }\n",
       "</style>\n",
       "<table border=\"1\" class=\"dataframe\">\n",
       "  <thead>\n",
       "    <tr style=\"text-align: right;\">\n",
       "      <th></th>\n",
       "      <th>id_venta</th>\n",
       "      <th>id_producto</th>\n",
       "      <th>nombre_producto</th>\n",
       "      <th>cantidad</th>\n",
       "      <th>precio_unitario</th>\n",
       "      <th>importe</th>\n",
       "    </tr>\n",
       "  </thead>\n",
       "  <tbody>\n",
       "    <tr>\n",
       "      <th>0</th>\n",
       "      <td>1</td>\n",
       "      <td>90</td>\n",
       "      <td>Toallas Húmedas x50</td>\n",
       "      <td>1</td>\n",
       "      <td>2902</td>\n",
       "      <td>2902</td>\n",
       "    </tr>\n",
       "    <tr>\n",
       "      <th>1</th>\n",
       "      <td>2</td>\n",
       "      <td>82</td>\n",
       "      <td>Aceitunas Negras 200g</td>\n",
       "      <td>5</td>\n",
       "      <td>2394</td>\n",
       "      <td>11970</td>\n",
       "    </tr>\n",
       "    <tr>\n",
       "      <th>2</th>\n",
       "      <td>2</td>\n",
       "      <td>39</td>\n",
       "      <td>Helado Vainilla 1L</td>\n",
       "      <td>5</td>\n",
       "      <td>469</td>\n",
       "      <td>2345</td>\n",
       "    </tr>\n",
       "    <tr>\n",
       "      <th>3</th>\n",
       "      <td>2</td>\n",
       "      <td>70</td>\n",
       "      <td>Fernet 750ml</td>\n",
       "      <td>2</td>\n",
       "      <td>4061</td>\n",
       "      <td>8122</td>\n",
       "    </tr>\n",
       "    <tr>\n",
       "      <th>4</th>\n",
       "      <td>2</td>\n",
       "      <td>22</td>\n",
       "      <td>Medialunas de Manteca</td>\n",
       "      <td>1</td>\n",
       "      <td>2069</td>\n",
       "      <td>2069</td>\n",
       "    </tr>\n",
       "  </tbody>\n",
       "</table>\n",
       "</div>"
      ],
      "text/plain": [
       "   id_venta  id_producto        nombre_producto  cantidad  precio_unitario  \\\n",
       "0         1           90    Toallas Húmedas x50         1             2902   \n",
       "1         2           82  Aceitunas Negras 200g         5             2394   \n",
       "2         2           39     Helado Vainilla 1L         5              469   \n",
       "3         2           70           Fernet 750ml         2             4061   \n",
       "4         2           22  Medialunas de Manteca         1             2069   \n",
       "\n",
       "   importe  \n",
       "0     2902  \n",
       "1    11970  \n",
       "2     2345  \n",
       "3     8122  \n",
       "4     2069  "
      ]
     },
     "execution_count": 4,
     "metadata": {},
     "output_type": "execute_result"
    }
   ],
   "source": [
    "print(\"Información del DataFrame de Detalle de Ventas:\")\n",
    "detalle_ventas_df.info()\n",
    "print(\"Valores nulos en Detalle de Ventas:\")\n",
    "print(detalle_ventas_df.isnull().sum())\n",
    "print(\"Primeras filas de Detalle de Ventas:\")\n",
    "detalle_ventas_df.head()"
   ]
  },
  {
   "cell_type": "markdown",
   "metadata": {},
   "source": [
    "### Productos"
   ]
  },
  {
   "cell_type": "code",
   "execution_count": 5,
   "metadata": {},
   "outputs": [
    {
     "name": "stdout",
     "output_type": "stream",
     "text": [
      "Información del DataFrame de Productos:\n",
      "<class 'pandas.core.frame.DataFrame'>\n",
      "RangeIndex: 100 entries, 0 to 99\n",
      "Data columns (total 4 columns):\n",
      " #   Column           Non-Null Count  Dtype \n",
      "---  ------           --------------  ----- \n",
      " 0   id_producto      100 non-null    int64 \n",
      " 1   nombre_producto  100 non-null    object\n",
      " 2   categoria        100 non-null    object\n",
      " 3   precio_unitario  100 non-null    int64 \n",
      "dtypes: int64(2), object(2)\n",
      "memory usage: 3.3+ KB\n",
      "Valores nulos en Productos:\n",
      "id_producto        0\n",
      "nombre_producto    0\n",
      "categoria          0\n",
      "precio_unitario    0\n",
      "dtype: int64\n",
      "Primeras filas de Productos:\n"
     ]
    },
    {
     "data": {
      "text/html": [
       "<div>\n",
       "<style scoped>\n",
       "    .dataframe tbody tr th:only-of-type {\n",
       "        vertical-align: middle;\n",
       "    }\n",
       "\n",
       "    .dataframe tbody tr th {\n",
       "        vertical-align: top;\n",
       "    }\n",
       "\n",
       "    .dataframe thead th {\n",
       "        text-align: right;\n",
       "    }\n",
       "</style>\n",
       "<table border=\"1\" class=\"dataframe\">\n",
       "  <thead>\n",
       "    <tr style=\"text-align: right;\">\n",
       "      <th></th>\n",
       "      <th>id_producto</th>\n",
       "      <th>nombre_producto</th>\n",
       "      <th>categoria</th>\n",
       "      <th>precio_unitario</th>\n",
       "    </tr>\n",
       "  </thead>\n",
       "  <tbody>\n",
       "    <tr>\n",
       "      <th>0</th>\n",
       "      <td>1</td>\n",
       "      <td>Coca Cola 1.5L</td>\n",
       "      <td>Alimentos</td>\n",
       "      <td>2347</td>\n",
       "    </tr>\n",
       "    <tr>\n",
       "      <th>1</th>\n",
       "      <td>2</td>\n",
       "      <td>Pepsi 1.5L</td>\n",
       "      <td>Alimentos</td>\n",
       "      <td>4973</td>\n",
       "    </tr>\n",
       "    <tr>\n",
       "      <th>2</th>\n",
       "      <td>3</td>\n",
       "      <td>Sprite 1.5L</td>\n",
       "      <td>Alimentos</td>\n",
       "      <td>4964</td>\n",
       "    </tr>\n",
       "    <tr>\n",
       "      <th>3</th>\n",
       "      <td>4</td>\n",
       "      <td>Fanta Naranja 1.5L</td>\n",
       "      <td>Alimentos</td>\n",
       "      <td>2033</td>\n",
       "    </tr>\n",
       "    <tr>\n",
       "      <th>4</th>\n",
       "      <td>5</td>\n",
       "      <td>Agua Mineral 500ml</td>\n",
       "      <td>Alimentos</td>\n",
       "      <td>4777</td>\n",
       "    </tr>\n",
       "  </tbody>\n",
       "</table>\n",
       "</div>"
      ],
      "text/plain": [
       "   id_producto     nombre_producto  categoria  precio_unitario\n",
       "0            1      Coca Cola 1.5L  Alimentos             2347\n",
       "1            2          Pepsi 1.5L  Alimentos             4973\n",
       "2            3         Sprite 1.5L  Alimentos             4964\n",
       "3            4  Fanta Naranja 1.5L  Alimentos             2033\n",
       "4            5  Agua Mineral 500ml  Alimentos             4777"
      ]
     },
     "execution_count": 5,
     "metadata": {},
     "output_type": "execute_result"
    }
   ],
   "source": [
    "print(\"Información del DataFrame de Productos:\")\n",
    "productos_df.info()\n",
    "print(\"Valores nulos en Productos:\")\n",
    "print(productos_df.isnull().sum())\n",
    "print(\"Primeras filas de Productos:\")\n",
    "productos_df.head()"
   ]
  },
  {
   "cell_type": "markdown",
   "metadata": {},
   "source": [
    "### Ventas"
   ]
  },
  {
   "cell_type": "code",
   "execution_count": 6,
   "metadata": {},
   "outputs": [
    {
     "name": "stdout",
     "output_type": "stream",
     "text": [
      "Información del DataFrame de Ventas:\n",
      "<class 'pandas.core.frame.DataFrame'>\n",
      "RangeIndex: 120 entries, 0 to 119\n",
      "Data columns (total 6 columns):\n",
      " #   Column          Non-Null Count  Dtype         \n",
      "---  ------          --------------  -----         \n",
      " 0   id_venta        120 non-null    int64         \n",
      " 1   fecha           120 non-null    datetime64[ns]\n",
      " 2   id_cliente      120 non-null    int64         \n",
      " 3   nombre_cliente  120 non-null    object        \n",
      " 4   email           120 non-null    object        \n",
      " 5   medio_pago      120 non-null    object        \n",
      "dtypes: datetime64[ns](1), int64(2), object(3)\n",
      "memory usage: 5.8+ KB\n",
      "Valores nulos en Ventas:\n",
      "id_venta          0\n",
      "fecha             0\n",
      "id_cliente        0\n",
      "nombre_cliente    0\n",
      "email             0\n",
      "medio_pago        0\n",
      "dtype: int64\n",
      "Primeras filas de Ventas:\n"
     ]
    },
    {
     "data": {
      "text/html": [
       "<div>\n",
       "<style scoped>\n",
       "    .dataframe tbody tr th:only-of-type {\n",
       "        vertical-align: middle;\n",
       "    }\n",
       "\n",
       "    .dataframe tbody tr th {\n",
       "        vertical-align: top;\n",
       "    }\n",
       "\n",
       "    .dataframe thead th {\n",
       "        text-align: right;\n",
       "    }\n",
       "</style>\n",
       "<table border=\"1\" class=\"dataframe\">\n",
       "  <thead>\n",
       "    <tr style=\"text-align: right;\">\n",
       "      <th></th>\n",
       "      <th>id_venta</th>\n",
       "      <th>fecha</th>\n",
       "      <th>id_cliente</th>\n",
       "      <th>nombre_cliente</th>\n",
       "      <th>email</th>\n",
       "      <th>medio_pago</th>\n",
       "    </tr>\n",
       "  </thead>\n",
       "  <tbody>\n",
       "    <tr>\n",
       "      <th>0</th>\n",
       "      <td>1</td>\n",
       "      <td>2024-06-19</td>\n",
       "      <td>62</td>\n",
       "      <td>Guadalupe Romero</td>\n",
       "      <td>guadalupe.romero@mail.com</td>\n",
       "      <td>tarjeta</td>\n",
       "    </tr>\n",
       "    <tr>\n",
       "      <th>1</th>\n",
       "      <td>2</td>\n",
       "      <td>2024-03-17</td>\n",
       "      <td>49</td>\n",
       "      <td>Olivia Gomez</td>\n",
       "      <td>olivia.gomez@mail.com</td>\n",
       "      <td>qr</td>\n",
       "    </tr>\n",
       "    <tr>\n",
       "      <th>2</th>\n",
       "      <td>3</td>\n",
       "      <td>2024-01-13</td>\n",
       "      <td>20</td>\n",
       "      <td>Tomas Acosta</td>\n",
       "      <td>tomas.acosta@mail.com</td>\n",
       "      <td>tarjeta</td>\n",
       "    </tr>\n",
       "    <tr>\n",
       "      <th>3</th>\n",
       "      <td>4</td>\n",
       "      <td>2024-02-27</td>\n",
       "      <td>36</td>\n",
       "      <td>Martina Molina</td>\n",
       "      <td>martina.molina@mail.com</td>\n",
       "      <td>transferencia</td>\n",
       "    </tr>\n",
       "    <tr>\n",
       "      <th>4</th>\n",
       "      <td>5</td>\n",
       "      <td>2024-06-11</td>\n",
       "      <td>56</td>\n",
       "      <td>Bruno Diaz</td>\n",
       "      <td>bruno.diaz@mail.com</td>\n",
       "      <td>tarjeta</td>\n",
       "    </tr>\n",
       "  </tbody>\n",
       "</table>\n",
       "</div>"
      ],
      "text/plain": [
       "   id_venta      fecha  id_cliente    nombre_cliente  \\\n",
       "0         1 2024-06-19          62  Guadalupe Romero   \n",
       "1         2 2024-03-17          49      Olivia Gomez   \n",
       "2         3 2024-01-13          20      Tomas Acosta   \n",
       "3         4 2024-02-27          36    Martina Molina   \n",
       "4         5 2024-06-11          56        Bruno Diaz   \n",
       "\n",
       "                       email     medio_pago  \n",
       "0  guadalupe.romero@mail.com        tarjeta  \n",
       "1      olivia.gomez@mail.com             qr  \n",
       "2      tomas.acosta@mail.com        tarjeta  \n",
       "3    martina.molina@mail.com  transferencia  \n",
       "4        bruno.diaz@mail.com        tarjeta  "
      ]
     },
     "execution_count": 6,
     "metadata": {},
     "output_type": "execute_result"
    }
   ],
   "source": [
    "print(\"Información del DataFrame de Ventas:\")\n",
    "ventas_df.info()\n",
    "print(\"Valores nulos en Ventas:\")\n",
    "print(ventas_df.isnull().sum())\n",
    "print(\"Primeras filas de Ventas:\")\n",
    "ventas_df.head()"
   ]
  },
  {
   "cell_type": "markdown",
   "metadata": {},
   "source": [
    "## 4. Limpieza y Transformación\n",
    "\n",
    "Basado en la inspección inicial, aplicamos las siguientes correcciones:"
   ]
  },
  {
   "cell_type": "markdown",
   "metadata": {},
   "source": [
    "### 4.1. Manejo de Duplicados"
   ]
  },
  {
   "cell_type": "code",
   "execution_count": 7,
   "metadata": {},
   "outputs": [
    {
     "name": "stdout",
     "output_type": "stream",
     "text": [
      "Registros duplicados eliminados.\n"
     ]
    }
   ],
   "source": [
    "clientes_df.drop_duplicates(inplace=True)\n",
    "productos_df.drop_duplicates(inplace=True)\n",
    "ventas_df.drop_duplicates(inplace=True)\n",
    "detalle_ventas_df.drop_duplicates(inplace=True)\n",
    "print(\"Registros duplicados eliminados.\")"
   ]
  },
  {
   "cell_type": "markdown",
   "metadata": {},
   "source": [
    "### 4.2. Manejo de Valores Faltantes\n",
    "\n",
    "En el DataFrame de `clientes`, la columna `nombre_cliente` tiene valores faltantes. Dado que el nombre es un identificador clave, eliminaremos las filas donde este dato no esté presente."
   ]
  },
  {
   "cell_type": "code",
   "execution_count": 8,
   "metadata": {},
   "outputs": [
    {
     "name": "stdout",
     "output_type": "stream",
     "text": [
      "Filas con nombres faltantes eliminadas del DataFrame de clientes.\n"
     ]
    }
   ],
   "source": [
    "clientes_df.dropna(subset=['nombre_cliente'], inplace=True)\n",
    "print(\"Filas con nombres faltantes eliminadas del DataFrame de clientes.\")"
   ]
  },
  {
   "cell_type": "markdown",
   "metadata": {},
   "source": [
    "### 4.3. Corrección de Tipos de Datos\n",
    "\n",
    "La columna `Fecha` en `ventas_df` es de tipo `datetime64[ns]`, lo cual es correcto. Si fuera un `object`, necesitaríamos convertirla con `pd.to_datetime()`."
   ]
  },
  {
   "cell_type": "code",
   "execution_count": 9,
   "metadata": {},
   "outputs": [],
   "source": [
    "# Ejemplo de cómo se haría la conversión si fuera necesario\n",
    "# ventas_df['Fecha'] = pd.to_datetime(ventas_df['Fecha'])"
   ]
  },
  {
   "cell_type": "markdown",
   "metadata": {},
   "source": [
    "## 5. Unión de los Datos (Merge)\n",
    "\n",
    "Para tener una visión completa, uniremos los DataFrames. La estructura parece ser:\n",
    "- `ventas_df` se une con `clientes_df` por `id_cliente`.\n",
    "- `ventas_df` se une con `detalle_ventas_df` por `id_venta`.\n",
    "- `detalle_ventas_df` se une con `productos_df` por `id_producto`."
   ]
  },
  {
   "cell_type": "code",
   "execution_count": 10,
   "metadata": {},
   "outputs": [
    {
     "name": "stdout",
     "output_type": "stream",
     "text": [
      "DataFrames unidos exitosamente.\n"
     ]
    },
    {
     "data": {
      "text/html": [
       "<div>\n",
       "<style scoped>\n",
       "    .dataframe tbody tr th:only-of-type {\n",
       "        vertical-align: middle;\n",
       "    }\n",
       "\n",
       "    .dataframe tbody tr th {\n",
       "        vertical-align: top;\n",
       "    }\n",
       "\n",
       "    .dataframe thead th {\n",
       "        text-align: right;\n",
       "    }\n",
       "</style>\n",
       "<table border=\"1\" class=\"dataframe\">\n",
       "  <thead>\n",
       "    <tr style=\"text-align: right;\">\n",
       "      <th></th>\n",
       "      <th>id_venta</th>\n",
       "      <th>fecha</th>\n",
       "      <th>id_cliente</th>\n",
       "      <th>medio_pago</th>\n",
       "      <th>id_producto</th>\n",
       "      <th>cantidad</th>\n",
       "      <th>importe</th>\n",
       "      <th>nombre_producto</th>\n",
       "      <th>categoria</th>\n",
       "      <th>precio_unitario</th>\n",
       "      <th>nombre_cliente</th>\n",
       "      <th>email</th>\n",
       "      <th>ciudad</th>\n",
       "      <th>fecha_alta</th>\n",
       "    </tr>\n",
       "  </thead>\n",
       "  <tbody>\n",
       "    <tr>\n",
       "      <th>0</th>\n",
       "      <td>1</td>\n",
       "      <td>2024-06-19</td>\n",
       "      <td>62</td>\n",
       "      <td>tarjeta</td>\n",
       "      <td>90</td>\n",
       "      <td>1</td>\n",
       "      <td>2902</td>\n",
       "      <td>Toallas Húmedas x50</td>\n",
       "      <td>Limpieza</td>\n",
       "      <td>2902</td>\n",
       "      <td>Guadalupe Romero</td>\n",
       "      <td>guadalupe.romero@mail.com</td>\n",
       "      <td>Carlos Paz</td>\n",
       "      <td>2023-03-03</td>\n",
       "    </tr>\n",
       "    <tr>\n",
       "      <th>1</th>\n",
       "      <td>2</td>\n",
       "      <td>2024-03-17</td>\n",
       "      <td>49</td>\n",
       "      <td>qr</td>\n",
       "      <td>82</td>\n",
       "      <td>5</td>\n",
       "      <td>11970</td>\n",
       "      <td>Aceitunas Negras 200g</td>\n",
       "      <td>Alimentos</td>\n",
       "      <td>2394</td>\n",
       "      <td>Olivia Gomez</td>\n",
       "      <td>olivia.gomez@mail.com</td>\n",
       "      <td>Rio Cuarto</td>\n",
       "      <td>2023-02-18</td>\n",
       "    </tr>\n",
       "    <tr>\n",
       "      <th>2</th>\n",
       "      <td>2</td>\n",
       "      <td>2024-03-17</td>\n",
       "      <td>49</td>\n",
       "      <td>qr</td>\n",
       "      <td>39</td>\n",
       "      <td>5</td>\n",
       "      <td>2345</td>\n",
       "      <td>Helado Vainilla 1L</td>\n",
       "      <td>Alimentos</td>\n",
       "      <td>469</td>\n",
       "      <td>Olivia Gomez</td>\n",
       "      <td>olivia.gomez@mail.com</td>\n",
       "      <td>Rio Cuarto</td>\n",
       "      <td>2023-02-18</td>\n",
       "    </tr>\n",
       "    <tr>\n",
       "      <th>3</th>\n",
       "      <td>2</td>\n",
       "      <td>2024-03-17</td>\n",
       "      <td>49</td>\n",
       "      <td>qr</td>\n",
       "      <td>70</td>\n",
       "      <td>2</td>\n",
       "      <td>8122</td>\n",
       "      <td>Fernet 750ml</td>\n",
       "      <td>Alimentos</td>\n",
       "      <td>4061</td>\n",
       "      <td>Olivia Gomez</td>\n",
       "      <td>olivia.gomez@mail.com</td>\n",
       "      <td>Rio Cuarto</td>\n",
       "      <td>2023-02-18</td>\n",
       "    </tr>\n",
       "    <tr>\n",
       "      <th>4</th>\n",
       "      <td>2</td>\n",
       "      <td>2024-03-17</td>\n",
       "      <td>49</td>\n",
       "      <td>qr</td>\n",
       "      <td>22</td>\n",
       "      <td>1</td>\n",
       "      <td>2069</td>\n",
       "      <td>Medialunas de Manteca</td>\n",
       "      <td>Alimentos</td>\n",
       "      <td>2069</td>\n",
       "      <td>Olivia Gomez</td>\n",
       "      <td>olivia.gomez@mail.com</td>\n",
       "      <td>Rio Cuarto</td>\n",
       "      <td>2023-02-18</td>\n",
       "    </tr>\n",
       "  </tbody>\n",
       "</table>\n",
       "</div>"
      ],
      "text/plain": [
       "   id_venta      fecha  id_cliente medio_pago  id_producto  cantidad  importe  \\\n",
       "0         1 2024-06-19          62    tarjeta           90         1     2902   \n",
       "1         2 2024-03-17          49         qr           82         5    11970   \n",
       "2         2 2024-03-17          49         qr           39         5     2345   \n",
       "3         2 2024-03-17          49         qr           70         2     8122   \n",
       "4         2 2024-03-17          49         qr           22         1     2069   \n",
       "\n",
       "         nombre_producto  categoria  precio_unitario    nombre_cliente  \\\n",
       "0    Toallas Húmedas x50   Limpieza             2902  Guadalupe Romero   \n",
       "1  Aceitunas Negras 200g  Alimentos             2394      Olivia Gomez   \n",
       "2     Helado Vainilla 1L  Alimentos              469      Olivia Gomez   \n",
       "3           Fernet 750ml  Alimentos             4061      Olivia Gomez   \n",
       "4  Medialunas de Manteca  Alimentos             2069      Olivia Gomez   \n",
       "\n",
       "                       email      ciudad fecha_alta  \n",
       "0  guadalupe.romero@mail.com  Carlos Paz 2023-03-03  \n",
       "1      olivia.gomez@mail.com  Rio Cuarto 2023-02-18  \n",
       "2      olivia.gomez@mail.com  Rio Cuarto 2023-02-18  \n",
       "3      olivia.gomez@mail.com  Rio Cuarto 2023-02-18  \n",
       "4      olivia.gomez@mail.com  Rio Cuarto 2023-02-18  "
      ]
     },
     "execution_count": 10,
     "metadata": {},
     "output_type": "execute_result"
    }
   ],
   "source": [
    "# Para evitar columnas duplicadas, primero eliminamos la información redundante\n",
    "# de las tablas de hechos (ventas, detalle_ventas) que ya existe en las\n",
    "# tablas de dimensiones (clientes, productos).\n",
    "ventas_df.drop(columns=['nombre_cliente', 'email'], inplace=True, errors='ignore')\n",
    "detalle_ventas_df.drop(columns=['nombre_producto', 'precio_unitario'], inplace=True, errors='ignore')\n",
    "\n",
    "# Unir ventas con detalle_ventas\n",
    "ventas_full_df = pd.merge(ventas_df, detalle_ventas_df, on=\"id_venta\")\n",
    "\n",
    "# Unir el resultado con productos\n",
    "ventas_full_df = pd.merge(ventas_full_df, productos_df, on=\"id_producto\")\n",
    "\n",
    "# Unir el resultado con clientes\n",
    "ventas_full_df = pd.merge(ventas_full_df, clientes_df, on=\"id_cliente\")\n",
    "\n",
    "print(\"DataFrames unidos exitosamente.\")\n",
    "ventas_full_df.head()"
   ]
  },
  {
   "cell_type": "markdown",
   "metadata": {},
   "source": [
    "## 6. Inspección Final del Dataset Unificado"
   ]
  },
  {
   "cell_type": "code",
   "execution_count": 11,
   "metadata": {},
   "outputs": [
    {
     "name": "stdout",
     "output_type": "stream",
     "text": [
      "Información del DataFrame unificado:\n",
      "<class 'pandas.core.frame.DataFrame'>\n",
      "RangeIndex: 343 entries, 0 to 342\n",
      "Data columns (total 14 columns):\n",
      " #   Column           Non-Null Count  Dtype         \n",
      "---  ------           --------------  -----         \n",
      " 0   id_venta         343 non-null    int64         \n",
      " 1   fecha            343 non-null    datetime64[ns]\n",
      " 2   id_cliente       343 non-null    int64         \n",
      " 3   medio_pago       343 non-null    object        \n",
      " 4   id_producto      343 non-null    int64         \n",
      " 5   cantidad         343 non-null    int64         \n",
      " 6   importe          343 non-null    int64         \n",
      " 7   nombre_producto  343 non-null    object        \n",
      " 8   categoria        343 non-null    object        \n",
      " 9   precio_unitario  343 non-null    int64         \n",
      " 10  nombre_cliente   343 non-null    object        \n",
      " 11  email            343 non-null    object        \n",
      " 12  ciudad           343 non-null    object        \n",
      " 13  fecha_alta       343 non-null    datetime64[ns]\n",
      "dtypes: datetime64[ns](2), int64(6), object(6)\n",
      "memory usage: 37.6+ KB\n",
      "Valores nulos en el DataFrame unificado:\n",
      "id_venta           0\n",
      "fecha              0\n",
      "id_cliente         0\n",
      "medio_pago         0\n",
      "id_producto        0\n",
      "cantidad           0\n",
      "importe            0\n",
      "nombre_producto    0\n",
      "categoria          0\n",
      "precio_unitario    0\n",
      "nombre_cliente     0\n",
      "email              0\n",
      "ciudad             0\n",
      "fecha_alta         0\n",
      "dtype: int64\n"
     ]
    }
   ],
   "source": [
    "print(\"Información del DataFrame unificado:\")\n",
    "ventas_full_df.info()\n",
    "print(\"Valores nulos en el DataFrame unificado:\")\n",
    "print(ventas_full_df.isnull().sum())"
   ]
  },
  {
   "cell_type": "markdown",
   "metadata": {},
   "source": [
    "## 7. Guardar los Datos Limpios\n",
    "\n",
    "Finalmente, guardamos el dataset limpio y unificado en un nuevo archivo CSV para su posterior análisis."
   ]
  },
  {
   "cell_type": "code",
   "execution_count": 12,
   "metadata": {},
   "outputs": [
    {
     "name": "stdout",
     "output_type": "stream",
     "text": [
      "El archivo 'ventas_limpias.csv' ha sido guardado en la carpeta 'output'.\n"
     ]
    }
   ],
   "source": [
    "ventas_full_df.to_csv(\"../output/ventas_limpias.csv\", index=False)\n",
    "print(\"El archivo 'ventas_limpias.csv' ha sido guardado en la carpeta 'output'.\")"
   ]
  }
 ],
 "metadata": {
  "kernelspec": {
   "display_name": "Python 3",
   "language": "python",
   "name": "python3"
  },
  "language_info": {
   "codemirror_mode": {
    "name": "ipython",
    "version": 3
   },
   "file_extension": ".py",
   "mimetype": "text/x-python",
   "name": "python",
   "nbconvert_exporter": "python",
   "pygments_lexer": "ipython3",
   "version": "3.13.7"
  }
 },
 "nbformat": 4,
 "nbformat_minor": 4
}
